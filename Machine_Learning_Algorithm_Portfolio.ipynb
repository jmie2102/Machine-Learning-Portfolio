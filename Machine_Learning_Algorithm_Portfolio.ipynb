{
 "cells": [
  {
   "cell_type": "markdown",
   "id": "35d4cbb3",
   "metadata": {},
   "source": [
    "Name: Suppawit Glawkate\n",
    "\n",
    "\n",
    "StudentID: 23064676\n",
    "\n",
    "Module: Machine Learning Algorithms"
   ]
  },
  {
   "cell_type": "markdown",
   "id": "34ec0000",
   "metadata": {
    "id": "34ec0000"
   },
   "source": [
    "# Table of contents\n",
    "1. [Introduction](#introduction)\n",
    "2. [Importing libraries](#Importinglibraries)\n",
    "3. [Reading the csv file](#ReadingCSV)\n",
    "4. [Data Pre-processing](#Preprocessing)\n",
    "   1. [Changing the column names](#ChangingColumnNames)\n",
    "   2. [Checking for null values and unique elements in each columns](#NullValuesUniqueElements)\n",
    "   3. [Performing Mode Imputation](#ModeImputation)\n",
    "5. [Exploratory Data Analysis](#EDA)\n",
    "6. [Initial model training stage](#InitTraining)\n",
    "   1. [Splitting the data into training and testing](#InitSplit)\n",
    "   2. [Training & Evaluating the models with confusion matrix](#TrainEval)\n",
    "      1. [Training Categorical Naive Bayes, Decision Tree, Random Forest & Gradient Boosting](#TrainEval)\n",
    "      2. [Classification report](#InitCR)\n",
    "      3. [Confusion matrix](#InitCM)\n",
    "7. [Feature selection](#FeatSelect)\n",
    "   1. [Model Training with the one-hot encoded data (All features are used)](#TrainOHE)\n",
    "      1. [Defining the columns to be One-Hot Encoded](#DefineOHECol)\n",
    "      2. [Splitting the data](#OHESplit)\n",
    "      3. [Training Categorical Naive Bayes, Decision Tree, Random Forest & Gradient Boosting](#OHEModelTraining)\n",
    "      4. [Performance Evaluation](#OHEPerformanceEval)\n",
    "         1. [Classification report](#OHECR)\n",
    "         2. [Confusion matrix](#OHECM)\n",
    "    2. [Model Training with binary-transformed dataset (All features are used)](#BinaryTransform)\n",
    "       1. [Transforming the output variable from multi-class to binary class](#MultiToBinary)\n",
    "       2. [Splitting the data and training](#BinarySplit)\n",
    "       3. [Training Categorical Naive Bayes, Decision Tree, Random Forest & Gradient Boosting](#BinaryTraining)\n",
    "       4. [Performance Evaluation](#BinaryPerformanceEval)\n",
    "          1. [Classification report](#BinaryCR)\n",
    "          2. [Confusion matrix](#BinaryCM)\n",
    "          3. [ROC-AUC Score](#BinaryROC)\n",
    "     3. [Model Training with binary-transformed + intuitively dropping features dataset](#BinaryIntuitive)\n",
    "        1. [Defining the columns to be dropped intuitively](#BinaryIntuitiveDef)\n",
    "        2. [Splitting the data](#BinaryIntuitiveSplit)\n",
    "        3. [Training Random Forest and Gradient Boosting](#BinaryIntuitiveTraining)\n",
    "        4. [Performance Evaluation](#BinaryIntuitivePerformanceEval)\n",
    "           1. [Classification report](#BinaryIntuitiveCR)\n",
    "           2. [Confusion matrix](#BinaryIntuitiveCM)\n",
    "           3. [ROC-AUC Score](#BinaryIntuitiveROC)\n",
    "      4. [Training the models with highly correlated features](#HighCorrFeat)\n",
    "         1. [Identifying the columns that are highly correlated](#HighCorrFeatDef)\n",
    "         2. [Splitting the data](#HighCorrFeatSplit)\n",
    "         3. [Training Random Forest and Gradient Boosting](#HighCorrFeatTraining)\n",
    "         4. [Performance Evaluation](#HighCorrFeatPerformanceEval)\n",
    "            1. [Classification report](#HighCorrFeatCR)\n",
    "            2. [Confusion matrix](#HighCorrFeatCM)\n",
    "            3. [ROC-AUC Score](#HighCorrFeatROC)\n",
    "      5. [Training the models features that have low correlated](#LowCorrFeat)\n",
    "          1. [Identifying the features that have low correlation](#LowCorrFeatDef)\n",
    "          2. [Splitting the data](#LowCorrFeatSplit)\n",
    "          3. [Training Random Forest and Gradient Boosting](#LowCorrFeatTraining)\n",
    "          4. [Performance Evaluation](#LowCorrFeatPerformanceEval)\n",
    "             1. [Classification report](#LowCorrFeatCR)\n",
    "             2. [Confusion matrix](#LowCorrFeatCM)\n",
    "             3. [ROC-AUC Score](#LowCorrFeatROC)\n",
    "     6. [Feature Importance - Random Forest Approach](#FeatureImportance)\n",
    "8. [Highly correlated features](#FinalHighCorrFeat)\n",
    "   1. [Splitting the data](#FinalHighCorrFeatSplit)\n",
    "   2. [Training Random Forest and Gradient Boosting](#FinalHighCorrFeatTraining)\n",
    "   3. [Performance Evaluation](#FinalHighCorrFeatPerformanceEval)\n",
    "      1. [Classification report](#FinalHighCorrFeatCR)\n",
    "      2. [Confusion matrix](#FinalHighCorrFeatCM)\n",
    "      3. [ROC-AUC score & curve](#FinalHighCorrFeatROC)\n",
    "9. [Conclusion](#conclusion)\n",
    "10. [References](#References)"
   ]
  },
  {
   "cell_type": "markdown",
   "id": "1ad2afc2",
   "metadata": {
    "id": "1ad2afc2"
   },
   "source": [
    "## Introduction <a name=\"introduction\"></a>"
   ]
  },
  {
   "cell_type": "markdown",
   "id": "1aa06c74",
   "metadata": {
    "id": "1aa06c74"
   },
   "source": [
    "This portfolio explores the Higher Education Students Performance Evaluation dataset sourced from the UC Irvine Machine Learning Repository. This specific dataset focuses on students who belong to the Faculty of Engineering and the Faculty of Educational Sciences in 2019. The primary objective is to perform data exploration on the dataset, implement data pre-processing and manipulation techniques, apply various Machine Learning algorithms, and evaluate their performances.\n",
    "\n",
    "My main audience consists of individuals with a beginner to intermediate level of knowledge in Machine Learning, aiming to gain a better understanding of the Machine Learning Pipeline and how to evaluate their obtained results.\n",
    "\n",
    "Additionally, I've formulated four research questions I aim to explore and answer within this portfolio.\n",
    "The research questions are as followed:\n",
    "- <b>RQ1</b>: How are classification models affected by a small dataset with numerous output classes?\n",
    "- <b>RQ2</b>: Does One-Hot Encoding directly impact the performance of the chosen models?\n",
    "- <b>RQ3</b>: How do highly correlated features affect model performance?\n",
    "- <b>RQ4</b>: Is feature importance a superior approach to feature selection compared to the correlation coefficient?"
   ]
  },
  {
   "cell_type": "markdown",
   "id": "16970b5d",
   "metadata": {
    "id": "16970b5d"
   },
   "source": [
    "## Importing libraries <a name=\"Importinglibraries\"></a>"
   ]
  },
  {
   "cell_type": "code",
   "execution_count": null,
   "id": "b889e56c",
   "metadata": {
    "id": "b889e56c"
   },
   "outputs": [],
   "source": [
    "import pandas as pd\n",
    "import numpy as np\n",
    "import matplotlib.pyplot as plt\n",
    "import seaborn as sns\n",
    "\n",
    "from sklearn.model_selection import train_test_split,StratifiedKFold, GridSearchCV, cross_val_score\n",
    "from sklearn.metrics import roc_auc_score, classification_report, confusion_matrix, RocCurveDisplay\n",
    "from sklearn.tree import DecisionTreeClassifier\n",
    "from sklearn.naive_bayes import CategoricalNB\n",
    "from sklearn.ensemble import GradientBoostingClassifier, RandomForestClassifier"
   ]
  },
  {
   "cell_type": "code",
   "execution_count": 2,
   "id": "66543455",
   "metadata": {
    "id": "66543455"
   },
   "outputs": [],
   "source": [
    "import warnings\n",
    "warnings.filterwarnings('ignore')"
   ]
  },
  {
   "cell_type": "markdown",
   "id": "4b1f6e3b",
   "metadata": {
    "id": "4b1f6e3b"
   },
   "source": [
    "## Reading the csv file <a name=\"ReadingCSV\"></a>"
   ]
  },
  {
   "cell_type": "markdown",
   "id": "6d6df0e5",
   "metadata": {
    "id": "6d6df0e5"
   },
   "source": [
    "We can observe that the data is relatively small and has numerous columns with lengthy names. The reason for the lengthy column names is that the survey questions were used as the column names themselves."
   ]
  },
  {
   "cell_type": "code",
   "execution_count": 3,
   "id": "9f2fc259",
   "metadata": {
    "id": "9f2fc259"
   },
   "outputs": [],
   "source": [
    "df = pd.read_csv('../dataset/DATA_adapted.csv') # replace the file path with your file path where DATA_adapted.csv is located"
   ]
  },
  {
   "cell_type": "code",
   "execution_count": 4,
   "id": "5aa68b2d",
   "metadata": {
    "colab": {
     "base_uri": "https://localhost:8080/",
     "height": 429
    },
    "id": "5aa68b2d",
    "outputId": "3d95a033-49ca-4b9f-ad43-0369ba8854f8"
   },
   "outputs": [
    {
     "data": {
      "text/html": [
       "<div>\n",
       "<style scoped>\n",
       "    .dataframe tbody tr th:only-of-type {\n",
       "        vertical-align: middle;\n",
       "    }\n",
       "\n",
       "    .dataframe tbody tr th {\n",
       "        vertical-align: top;\n",
       "    }\n",
       "\n",
       "    .dataframe thead th {\n",
       "        text-align: right;\n",
       "    }\n",
       "</style>\n",
       "<table border=\"1\" class=\"dataframe\">\n",
       "  <thead>\n",
       "    <tr style=\"text-align: right;\">\n",
       "      <th></th>\n",
       "      <th>Student ID</th>\n",
       "      <th>1- Student Age</th>\n",
       "      <th>2- Sex</th>\n",
       "      <th>3- Graduated high-school type</th>\n",
       "      <th>4- Scholarship type</th>\n",
       "      <th>5- Additional work</th>\n",
       "      <th>6- Regular artistic or sports activity</th>\n",
       "      <th>7- Do you have a partner</th>\n",
       "      <th>8- Total salary</th>\n",
       "      <th>9- Transportation to the university</th>\n",
       "      <th>...</th>\n",
       "      <th>23- Preparation to midterm exams(1: alone 2: with friends 3: not applicable)</th>\n",
       "      <th>24- Preparation to midterm exams(1: closest date to the exam 2: regularly during the semester 3: never)</th>\n",
       "      <th>25- Taking notes in classes</th>\n",
       "      <th>26- Listening in classes</th>\n",
       "      <th>27- Discussion improves my interest and success in the course</th>\n",
       "      <th>28- Flip-classroom</th>\n",
       "      <th>29- Cumulative grade point average in the last semester</th>\n",
       "      <th>30- Expected Cumulative grade point average in the graduatio</th>\n",
       "      <th>Course ID</th>\n",
       "      <th>OUTPUT Grade</th>\n",
       "    </tr>\n",
       "  </thead>\n",
       "  <tbody>\n",
       "    <tr>\n",
       "      <th>0</th>\n",
       "      <td>STUDENT1</td>\n",
       "      <td>2.0</td>\n",
       "      <td>2</td>\n",
       "      <td>3</td>\n",
       "      <td>3</td>\n",
       "      <td>1</td>\n",
       "      <td>2</td>\n",
       "      <td>2</td>\n",
       "      <td>1</td>\n",
       "      <td>1</td>\n",
       "      <td>...</td>\n",
       "      <td>1</td>\n",
       "      <td>1</td>\n",
       "      <td>3</td>\n",
       "      <td>2</td>\n",
       "      <td>1</td>\n",
       "      <td>2</td>\n",
       "      <td>1</td>\n",
       "      <td>1</td>\n",
       "      <td>1</td>\n",
       "      <td>1</td>\n",
       "    </tr>\n",
       "    <tr>\n",
       "      <th>1</th>\n",
       "      <td>STUDENT2</td>\n",
       "      <td>2.0</td>\n",
       "      <td>2</td>\n",
       "      <td>3</td>\n",
       "      <td>3</td>\n",
       "      <td>1</td>\n",
       "      <td>2</td>\n",
       "      <td>2</td>\n",
       "      <td>1</td>\n",
       "      <td>1</td>\n",
       "      <td>...</td>\n",
       "      <td>1</td>\n",
       "      <td>1</td>\n",
       "      <td>3</td>\n",
       "      <td>2</td>\n",
       "      <td>3</td>\n",
       "      <td>2</td>\n",
       "      <td>2</td>\n",
       "      <td>3</td>\n",
       "      <td>1</td>\n",
       "      <td>1</td>\n",
       "    </tr>\n",
       "    <tr>\n",
       "      <th>2</th>\n",
       "      <td>STUDENT3</td>\n",
       "      <td>2.0</td>\n",
       "      <td>2</td>\n",
       "      <td>2</td>\n",
       "      <td>3</td>\n",
       "      <td>2</td>\n",
       "      <td>2</td>\n",
       "      <td>2</td>\n",
       "      <td>2</td>\n",
       "      <td>4</td>\n",
       "      <td>...</td>\n",
       "      <td>1</td>\n",
       "      <td>1</td>\n",
       "      <td>2</td>\n",
       "      <td>2</td>\n",
       "      <td>1</td>\n",
       "      <td>1</td>\n",
       "      <td>2</td>\n",
       "      <td>2</td>\n",
       "      <td>1</td>\n",
       "      <td>1</td>\n",
       "    </tr>\n",
       "    <tr>\n",
       "      <th>3</th>\n",
       "      <td>STUDENT4</td>\n",
       "      <td>1.0</td>\n",
       "      <td>1</td>\n",
       "      <td>1</td>\n",
       "      <td>3</td>\n",
       "      <td>1</td>\n",
       "      <td>2</td>\n",
       "      <td>1</td>\n",
       "      <td>2</td>\n",
       "      <td>1</td>\n",
       "      <td>...</td>\n",
       "      <td>1</td>\n",
       "      <td>2</td>\n",
       "      <td>3</td>\n",
       "      <td>2</td>\n",
       "      <td>2</td>\n",
       "      <td>1</td>\n",
       "      <td>3</td>\n",
       "      <td>2</td>\n",
       "      <td>1</td>\n",
       "      <td>1</td>\n",
       "    </tr>\n",
       "    <tr>\n",
       "      <th>4</th>\n",
       "      <td>STUDENT5</td>\n",
       "      <td>NaN</td>\n",
       "      <td>2</td>\n",
       "      <td>1</td>\n",
       "      <td>3</td>\n",
       "      <td>2</td>\n",
       "      <td>2</td>\n",
       "      <td>1</td>\n",
       "      <td>3</td>\n",
       "      <td>1</td>\n",
       "      <td>...</td>\n",
       "      <td>2</td>\n",
       "      <td>1</td>\n",
       "      <td>2</td>\n",
       "      <td>2</td>\n",
       "      <td>2</td>\n",
       "      <td>1</td>\n",
       "      <td>2</td>\n",
       "      <td>2</td>\n",
       "      <td>1</td>\n",
       "      <td>1</td>\n",
       "    </tr>\n",
       "  </tbody>\n",
       "</table>\n",
       "<p>5 rows × 33 columns</p>\n",
       "</div>"
      ],
      "text/plain": [
       "  Student ID  1- Student Age  2- Sex  3- Graduated high-school type  \\\n",
       "0   STUDENT1             2.0       2                              3   \n",
       "1   STUDENT2             2.0       2                              3   \n",
       "2   STUDENT3             2.0       2                              2   \n",
       "3   STUDENT4             1.0       1                              1   \n",
       "4   STUDENT5             NaN       2                              1   \n",
       "\n",
       "   4- Scholarship type  5- Additional work  \\\n",
       "0                    3                   1   \n",
       "1                    3                   1   \n",
       "2                    3                   2   \n",
       "3                    3                   1   \n",
       "4                    3                   2   \n",
       "\n",
       "   6- Regular artistic or sports activity  7- Do you have a partner  \\\n",
       "0                                       2                         2   \n",
       "1                                       2                         2   \n",
       "2                                       2                         2   \n",
       "3                                       2                         1   \n",
       "4                                       2                         1   \n",
       "\n",
       "   8- Total salary  9- Transportation to the university  ...  \\\n",
       "0                1                                    1  ...   \n",
       "1                1                                    1  ...   \n",
       "2                2                                    4  ...   \n",
       "3                2                                    1  ...   \n",
       "4                3                                    1  ...   \n",
       "\n",
       "   23- Preparation to midterm exams(1: alone 2: with friends 3: not applicable)  \\\n",
       "0                                                  1                              \n",
       "1                                                  1                              \n",
       "2                                                  1                              \n",
       "3                                                  1                              \n",
       "4                                                  2                              \n",
       "\n",
       "   24- Preparation to midterm exams(1: closest date to the exam 2: regularly during the semester 3: never)  \\\n",
       "0                                                  1                                                         \n",
       "1                                                  1                                                         \n",
       "2                                                  1                                                         \n",
       "3                                                  2                                                         \n",
       "4                                                  1                                                         \n",
       "\n",
       "   25- Taking notes in classes  26- Listening in classes  \\\n",
       "0                            3                         2   \n",
       "1                            3                         2   \n",
       "2                            2                         2   \n",
       "3                            3                         2   \n",
       "4                            2                         2   \n",
       "\n",
       "   27- Discussion improves my interest and success in the course  \\\n",
       "0                                                  1               \n",
       "1                                                  3               \n",
       "2                                                  1               \n",
       "3                                                  2               \n",
       "4                                                  2               \n",
       "\n",
       "   28- Flip-classroom  \\\n",
       "0                   2   \n",
       "1                   2   \n",
       "2                   1   \n",
       "3                   1   \n",
       "4                   1   \n",
       "\n",
       "   29- Cumulative grade point average in the last semester  \\\n",
       "0                                                  1         \n",
       "1                                                  2         \n",
       "2                                                  2         \n",
       "3                                                  3         \n",
       "4                                                  2         \n",
       "\n",
       "   30- Expected Cumulative grade point average in the graduatio  Course ID  \\\n",
       "0                                                  1                     1   \n",
       "1                                                  3                     1   \n",
       "2                                                  2                     1   \n",
       "3                                                  2                     1   \n",
       "4                                                  2                     1   \n",
       "\n",
       "   OUTPUT Grade  \n",
       "0             1  \n",
       "1             1  \n",
       "2             1  \n",
       "3             1  \n",
       "4             1  \n",
       "\n",
       "[5 rows x 33 columns]"
      ]
     },
     "execution_count": 4,
     "metadata": {},
     "output_type": "execute_result"
    }
   ],
   "source": [
    "df.head()"
   ]
  },
  {
   "cell_type": "code",
   "execution_count": 5,
   "id": "c04c8116",
   "metadata": {
    "colab": {
     "base_uri": "https://localhost:8080/"
    },
    "id": "c04c8116",
    "outputId": "a296797c-8018-497a-c56b-86d6e6396e71"
   },
   "outputs": [
    {
     "name": "stdout",
     "output_type": "stream",
     "text": [
      "Number of rows: 145\n",
      "Number of columns: 33\n"
     ]
    }
   ],
   "source": [
    "print('Number of rows:',df.shape[0])\n",
    "print('Number of columns:',df.shape[1])"
   ]
  },
  {
   "cell_type": "markdown",
   "id": "5897907e",
   "metadata": {
    "id": "5897907e"
   },
   "source": [
    "## Data Pre-processing <a name=\"Preprocessing\"></a>"
   ]
  },
  {
   "cell_type": "markdown",
   "id": "0a741a0e",
   "metadata": {
    "id": "0a741a0e"
   },
   "source": [
    "### Changing the column names <a name=\"ChangingColumnNames\"></a>"
   ]
  },
  {
   "cell_type": "markdown",
   "id": "0fef5024",
   "metadata": {
    "id": "0fef5024"
   },
   "source": [
    "Here, I will shorten the column names to ensure that the features are both easier to work with and still readable, as they don't necessarily have to be long."
   ]
  },
  {
   "cell_type": "code",
   "execution_count": 6,
   "id": "822fa5fa",
   "metadata": {
    "colab": {
     "base_uri": "https://localhost:8080/"
    },
    "id": "822fa5fa",
    "outputId": "1dc3a963-e096-4cad-efa8-c5eb52c7e84b",
    "scrolled": true
   },
   "outputs": [
    {
     "data": {
      "text/plain": [
       "Index(['Student ID', '1- Student Age', '2- Sex',\n",
       "       '3- Graduated high-school type', '4- Scholarship type',\n",
       "       '5- Additional work', '6- Regular artistic or sports activity',\n",
       "       '7- Do you have a partner', '8- Total salary',\n",
       "       '9- Transportation to the university', '10- Accommodation type',\n",
       "       '11- Mothers education', '12- Father education',\n",
       "       '13- Number of sistersbrothers', '14- Parental status',\n",
       "       '15- Motheroccupation', '16- Fathersoccupation',\n",
       "       '17- Weekly study hours',\n",
       "       '18- Reading frequency (non-scientific books/journals)',\n",
       "       '19- Reading frequency (scientific books/journals)',\n",
       "       '20- Attendance to the seminarsconferences related to the department',\n",
       "       '21- Impact of your projects on your success',\n",
       "       '22- Attendance to classes',\n",
       "       '23- Preparation to midterm exams(1: alone 2: with friends 3: not applicable)',\n",
       "       '24- Preparation to midterm exams(1: closest date to the exam 2: regularly during the semester 3: never)',\n",
       "       '25- Taking notes in classes', '26- Listening in classes',\n",
       "       '27- Discussion improves my interest and success in the course',\n",
       "       '28- Flip-classroom',\n",
       "       '29- Cumulative grade point average in the last semester',\n",
       "       '30- Expected Cumulative grade point average in the graduatio',\n",
       "       'Course ID', 'OUTPUT Grade'],\n",
       "      dtype='object')"
      ]
     },
     "execution_count": 6,
     "metadata": {},
     "output_type": "execute_result"
    }
   ],
   "source": [
    "df.columns"
   ]
  },
  {
   "cell_type": "code",
   "execution_count": 7,
   "id": "72923923",
   "metadata": {
    "colab": {
     "base_uri": "https://localhost:8080/"
    },
    "id": "72923923",
    "outputId": "21c43309-5955-4c6c-940c-fa443163ffae"
   },
   "outputs": [
    {
     "name": "stdout",
     "output_type": "stream",
     "text": [
      "Number of columns: 33\n"
     ]
    }
   ],
   "source": [
    "new_col_name = ['ID', 'Age', 'Sex', 'GradHSType', 'ScholarshipType', 'AdditionalWork',\n",
    "                'ArtSportActivity','MaritalStatus', 'TotalSalary', 'Transportation', 'AccommType', 'MotherEduc',\n",
    "                'FatherEduc', 'Sib', 'ParentalStatus', 'MotherOccup', 'FatherOccup', 'StudyHours',\n",
    "                'ReadFreqNonScientific', 'ReadFreqScientific', 'AttendanceSeminars', 'ProjectImpact', 'AttendanceClass', 'MidtermPrepPeople',\n",
    "                'MidtermPrepDuration', 'TakeNotes', 'ListenInClass','PreferDiscussion', 'FlipClassroom', 'PrevCGPA',\n",
    "                'ExpectedCGPA', 'CourseID', 'OutputGrade']\n",
    "print('Number of columns:',len(new_col_name))\n",
    "\n",
    "for i in range(len(df.columns)):\n",
    "    df.rename(columns = {df.columns[i] : new_col_name[i]}, inplace = True)"
   ]
  },
  {
   "cell_type": "markdown",
   "id": "188e4faf",
   "metadata": {
    "id": "188e4faf"
   },
   "source": [
    "As we can see, I've removed all unnecessary information from the column names. They are now easier to read, much shorter than before, and effectively convey the content of each column."
   ]
  },
  {
   "cell_type": "code",
   "execution_count": 8,
   "id": "2ef5aae5",
   "metadata": {
    "colab": {
     "base_uri": "https://localhost:8080/"
    },
    "id": "2ef5aae5",
    "outputId": "0021c946-a17b-41bf-abf3-bff50adc2e19",
    "scrolled": true
   },
   "outputs": [
    {
     "name": "stdout",
     "output_type": "stream",
     "text": [
      "<class 'pandas.core.frame.DataFrame'>\n",
      "RangeIndex: 145 entries, 0 to 144\n",
      "Data columns (total 33 columns):\n",
      " #   Column                 Non-Null Count  Dtype  \n",
      "---  ------                 --------------  -----  \n",
      " 0   ID                     145 non-null    object \n",
      " 1   Age                    126 non-null    float64\n",
      " 2   Sex                    145 non-null    int64  \n",
      " 3   GradHSType             145 non-null    int64  \n",
      " 4   ScholarshipType        145 non-null    int64  \n",
      " 5   AdditionalWork         145 non-null    int64  \n",
      " 6   ArtSportActivity       145 non-null    int64  \n",
      " 7   MaritalStatus          145 non-null    int64  \n",
      " 8   TotalSalary            145 non-null    int64  \n",
      " 9   Transportation         145 non-null    int64  \n",
      " 10  AccommType             145 non-null    int64  \n",
      " 11  MotherEduc             145 non-null    int64  \n",
      " 12  FatherEduc             145 non-null    int64  \n",
      " 13  Sib                    145 non-null    int64  \n",
      " 14  ParentalStatus         145 non-null    int64  \n",
      " 15  MotherOccup            145 non-null    int64  \n",
      " 16  FatherOccup            145 non-null    int64  \n",
      " 17  StudyHours             145 non-null    int64  \n",
      " 18  ReadFreqNonScientific  145 non-null    int64  \n",
      " 19  ReadFreqScientific     145 non-null    int64  \n",
      " 20  AttendanceSeminars     145 non-null    int64  \n",
      " 21  ProjectImpact          145 non-null    int64  \n",
      " 22  AttendanceClass        145 non-null    int64  \n",
      " 23  MidtermPrepPeople      145 non-null    int64  \n",
      " 24  MidtermPrepDuration    145 non-null    int64  \n",
      " 25  TakeNotes              145 non-null    int64  \n",
      " 26  ListenInClass          145 non-null    int64  \n",
      " 27  PreferDiscussion       145 non-null    int64  \n",
      " 28  FlipClassroom          145 non-null    int64  \n",
      " 29  PrevCGPA               145 non-null    int64  \n",
      " 30  ExpectedCGPA           145 non-null    int64  \n",
      " 31  CourseID               145 non-null    int64  \n",
      " 32  OutputGrade            145 non-null    int64  \n",
      "dtypes: float64(1), int64(31), object(1)\n",
      "memory usage: 37.5+ KB\n"
     ]
    }
   ],
   "source": [
    "df.info()"
   ]
  },
  {
   "cell_type": "markdown",
   "id": "13ed1d30",
   "metadata": {
    "id": "13ed1d30"
   },
   "source": [
    "### Checking for null values and unique elements in each columns <a name=\"NullValuesUniqueElements\"></a>"
   ]
  },
  {
   "cell_type": "markdown",
   "id": "ffe02b6d",
   "metadata": {
    "id": "ffe02b6d"
   },
   "source": [
    "Here I want to fimiliarise myself more with the dataset, checking for any potential missing values. Additionally I want to know what kind of data each features contain."
   ]
  },
  {
   "cell_type": "markdown",
   "id": "0e5953da",
   "metadata": {
    "id": "0e5953da"
   },
   "source": [
    "It has been noted that there are 19 missing values in the age column"
   ]
  },
  {
   "cell_type": "code",
   "execution_count": 9,
   "id": "6f5cf81e",
   "metadata": {
    "colab": {
     "base_uri": "https://localhost:8080/"
    },
    "id": "6f5cf81e",
    "outputId": "c9baec1b-3e24-48ce-8b14-1d32bb962ea9",
    "scrolled": true
   },
   "outputs": [
    {
     "data": {
      "text/plain": [
       "ID                        0\n",
       "Age                      19\n",
       "Sex                       0\n",
       "GradHSType                0\n",
       "ScholarshipType           0\n",
       "AdditionalWork            0\n",
       "ArtSportActivity          0\n",
       "MaritalStatus             0\n",
       "TotalSalary               0\n",
       "Transportation            0\n",
       "AccommType                0\n",
       "MotherEduc                0\n",
       "FatherEduc                0\n",
       "Sib                       0\n",
       "ParentalStatus            0\n",
       "MotherOccup               0\n",
       "FatherOccup               0\n",
       "StudyHours                0\n",
       "ReadFreqNonScientific     0\n",
       "ReadFreqScientific        0\n",
       "AttendanceSeminars        0\n",
       "ProjectImpact             0\n",
       "AttendanceClass           0\n",
       "MidtermPrepPeople         0\n",
       "MidtermPrepDuration       0\n",
       "TakeNotes                 0\n",
       "ListenInClass             0\n",
       "PreferDiscussion          0\n",
       "FlipClassroom             0\n",
       "PrevCGPA                  0\n",
       "ExpectedCGPA              0\n",
       "CourseID                  0\n",
       "OutputGrade               0\n",
       "dtype: int64"
      ]
     },
     "execution_count": 9,
     "metadata": {},
     "output_type": "execute_result"
    }
   ],
   "source": [
    "df.isnull().sum()"
   ]
  },
  {
   "cell_type": "markdown",
   "id": "8e0dbce0",
   "metadata": {
    "id": "8e0dbce0"
   },
   "source": [
    "Below we can see all the unique values in each of the features. I excluded the Student ID column because it is not beneficial for further processing and to safeguard the privacy of students' data. Notice that all the values in the features fall within the range of 0 to N, resembling numerical data. However, it's important to note that, except for the number of siblings (to some extent), these are essentially categorical data encoded into numerical values."
   ]
  },
  {
   "cell_type": "code",
   "execution_count": 10,
   "id": "25238ebc",
   "metadata": {
    "id": "25238ebc"
   },
   "outputs": [],
   "source": [
    "df_feat_target = df.drop(columns = ['ID'])"
   ]
  },
  {
   "cell_type": "code",
   "execution_count": 11,
   "id": "20bf3c59",
   "metadata": {
    "colab": {
     "base_uri": "https://localhost:8080/"
    },
    "id": "20bf3c59",
    "outputId": "50f272ea-70f6-4c7e-a8a8-a535b49f5d5c",
    "scrolled": true
   },
   "outputs": [
    {
     "name": "stdout",
     "output_type": "stream",
     "text": [
      "Age : [1.0, 2.0, nan, 3.0]\n",
      "Sex : [1, 2]\n",
      "GradHSType : [1, 2, 3]\n",
      "ScholarshipType : [1, 2, 3, 4, 5]\n",
      "AdditionalWork : [1, 2]\n",
      "ArtSportActivity : [1, 2]\n",
      "MaritalStatus : [1, 2]\n",
      "TotalSalary : [1, 2, 3, 4, 5]\n",
      "Transportation : [1, 2, 3, 4]\n",
      "AccommType : [1, 2, 3, 4]\n",
      "MotherEduc : [1, 2, 3, 4, 5, 6]\n",
      "FatherEduc : [1, 2, 3, 4, 5, 6]\n",
      "Sib : [1, 2, 3, 4, 5]\n",
      "ParentalStatus : [1, 2, 3]\n",
      "MotherOccup : [1, 2, 3, 4, 5]\n",
      "FatherOccup : [1, 2, 3, 4, 5]\n",
      "StudyHours : [1, 2, 3, 4, 5]\n",
      "ReadFreqNonScientific : [1, 2, 3]\n",
      "ReadFreqScientific : [1, 2, 3]\n",
      "AttendanceSeminars : [1, 2]\n",
      "ProjectImpact : [1, 2, 3]\n",
      "AttendanceClass : [1, 2]\n",
      "MidtermPrepPeople : [1, 2, 3]\n",
      "MidtermPrepDuration : [1, 2, 3]\n",
      "TakeNotes : [1, 2, 3]\n",
      "ListenInClass : [1, 2, 3]\n",
      "PreferDiscussion : [1, 2, 3]\n",
      "FlipClassroom : [1, 2, 3]\n",
      "PrevCGPA : [1, 2, 3, 4, 5]\n",
      "ExpectedCGPA : [1, 2, 3, 4]\n",
      "CourseID : [1, 2, 3, 4, 5, 6, 7, 8, 9]\n",
      "OutputGrade : [0, 1, 2, 3, 4, 5, 6, 7]\n"
     ]
    }
   ],
   "source": [
    "for i in df_feat_target.columns:\n",
    "    print(i,':',sorted(df_feat_target[i].unique()))"
   ]
  },
  {
   "cell_type": "markdown",
   "id": "92909e08",
   "metadata": {
    "id": "92909e08"
   },
   "source": [
    "### Performing Mode Imputation <a name=\"ModeImputation \"></a>"
   ]
  },
  {
   "cell_type": "markdown",
   "id": "3a6934bc",
   "metadata": {
    "id": "3a6934bc"
   },
   "source": [
    "To address the missing values in the age column, I decided to impute them with the most frequently occurring value, or mode. Despite age being continuous in nature, this dataset has categorised age into three distinct groups. Therefore, using the mode for imputation is considered appropriate."
   ]
  },
  {
   "cell_type": "code",
   "execution_count": 12,
   "id": "1a6166e6",
   "metadata": {
    "id": "1a6166e6"
   },
   "outputs": [],
   "source": [
    "df_feat_target['Age'].fillna(-1, inplace = True)\n",
    "df_feat_target['Age'] = df_feat_target['Age'].astype(np.int64)\n",
    "df_feat_target['Age'] = df_feat_target['Age'].replace(-1, df_feat_target['Age'].mode()[0])"
   ]
  },
  {
   "cell_type": "markdown",
   "id": "c1f8232c",
   "metadata": {
    "id": "c1f8232c"
   },
   "source": [
    "'df_features' consists of all the features within the dataset (31 features) and 'df_target' is the 'OutputGrade' that we will be trying to predict using the ML models"
   ]
  },
  {
   "cell_type": "code",
   "execution_count": 13,
   "id": "9bea4814",
   "metadata": {
    "id": "9bea4814"
   },
   "outputs": [],
   "source": [
    "df_features = df_feat_target.iloc[:,:-1]\n",
    "df_target = df_feat_target.iloc[:,-1]"
   ]
  },
  {
   "cell_type": "code",
   "execution_count": 14,
   "id": "54508891",
   "metadata": {
    "colab": {
     "base_uri": "https://localhost:8080/",
     "height": 444
    },
    "id": "54508891",
    "outputId": "84de43e6-c950-4baf-cf41-b72dc2ccb06e"
   },
   "outputs": [
    {
     "data": {
      "text/html": [
       "<div>\n",
       "<style scoped>\n",
       "    .dataframe tbody tr th:only-of-type {\n",
       "        vertical-align: middle;\n",
       "    }\n",
       "\n",
       "    .dataframe tbody tr th {\n",
       "        vertical-align: top;\n",
       "    }\n",
       "\n",
       "    .dataframe thead th {\n",
       "        text-align: right;\n",
       "    }\n",
       "</style>\n",
       "<table border=\"1\" class=\"dataframe\">\n",
       "  <thead>\n",
       "    <tr style=\"text-align: right;\">\n",
       "      <th></th>\n",
       "      <th>Age</th>\n",
       "      <th>Sex</th>\n",
       "      <th>GradHSType</th>\n",
       "      <th>ScholarshipType</th>\n",
       "      <th>AdditionalWork</th>\n",
       "      <th>ArtSportActivity</th>\n",
       "      <th>MaritalStatus</th>\n",
       "      <th>TotalSalary</th>\n",
       "      <th>Transportation</th>\n",
       "      <th>AccommType</th>\n",
       "      <th>...</th>\n",
       "      <th>MidtermPrepPeople</th>\n",
       "      <th>MidtermPrepDuration</th>\n",
       "      <th>TakeNotes</th>\n",
       "      <th>ListenInClass</th>\n",
       "      <th>PreferDiscussion</th>\n",
       "      <th>FlipClassroom</th>\n",
       "      <th>PrevCGPA</th>\n",
       "      <th>ExpectedCGPA</th>\n",
       "      <th>CourseID</th>\n",
       "      <th>OutputGrade</th>\n",
       "    </tr>\n",
       "  </thead>\n",
       "  <tbody>\n",
       "    <tr>\n",
       "      <th>0</th>\n",
       "      <td>2</td>\n",
       "      <td>2</td>\n",
       "      <td>3</td>\n",
       "      <td>3</td>\n",
       "      <td>1</td>\n",
       "      <td>2</td>\n",
       "      <td>2</td>\n",
       "      <td>1</td>\n",
       "      <td>1</td>\n",
       "      <td>1</td>\n",
       "      <td>...</td>\n",
       "      <td>1</td>\n",
       "      <td>1</td>\n",
       "      <td>3</td>\n",
       "      <td>2</td>\n",
       "      <td>1</td>\n",
       "      <td>2</td>\n",
       "      <td>1</td>\n",
       "      <td>1</td>\n",
       "      <td>1</td>\n",
       "      <td>1</td>\n",
       "    </tr>\n",
       "    <tr>\n",
       "      <th>1</th>\n",
       "      <td>2</td>\n",
       "      <td>2</td>\n",
       "      <td>3</td>\n",
       "      <td>3</td>\n",
       "      <td>1</td>\n",
       "      <td>2</td>\n",
       "      <td>2</td>\n",
       "      <td>1</td>\n",
       "      <td>1</td>\n",
       "      <td>1</td>\n",
       "      <td>...</td>\n",
       "      <td>1</td>\n",
       "      <td>1</td>\n",
       "      <td>3</td>\n",
       "      <td>2</td>\n",
       "      <td>3</td>\n",
       "      <td>2</td>\n",
       "      <td>2</td>\n",
       "      <td>3</td>\n",
       "      <td>1</td>\n",
       "      <td>1</td>\n",
       "    </tr>\n",
       "    <tr>\n",
       "      <th>2</th>\n",
       "      <td>2</td>\n",
       "      <td>2</td>\n",
       "      <td>2</td>\n",
       "      <td>3</td>\n",
       "      <td>2</td>\n",
       "      <td>2</td>\n",
       "      <td>2</td>\n",
       "      <td>2</td>\n",
       "      <td>4</td>\n",
       "      <td>2</td>\n",
       "      <td>...</td>\n",
       "      <td>1</td>\n",
       "      <td>1</td>\n",
       "      <td>2</td>\n",
       "      <td>2</td>\n",
       "      <td>1</td>\n",
       "      <td>1</td>\n",
       "      <td>2</td>\n",
       "      <td>2</td>\n",
       "      <td>1</td>\n",
       "      <td>1</td>\n",
       "    </tr>\n",
       "    <tr>\n",
       "      <th>3</th>\n",
       "      <td>1</td>\n",
       "      <td>1</td>\n",
       "      <td>1</td>\n",
       "      <td>3</td>\n",
       "      <td>1</td>\n",
       "      <td>2</td>\n",
       "      <td>1</td>\n",
       "      <td>2</td>\n",
       "      <td>1</td>\n",
       "      <td>2</td>\n",
       "      <td>...</td>\n",
       "      <td>1</td>\n",
       "      <td>2</td>\n",
       "      <td>3</td>\n",
       "      <td>2</td>\n",
       "      <td>2</td>\n",
       "      <td>1</td>\n",
       "      <td>3</td>\n",
       "      <td>2</td>\n",
       "      <td>1</td>\n",
       "      <td>1</td>\n",
       "    </tr>\n",
       "    <tr>\n",
       "      <th>4</th>\n",
       "      <td>2</td>\n",
       "      <td>2</td>\n",
       "      <td>1</td>\n",
       "      <td>3</td>\n",
       "      <td>2</td>\n",
       "      <td>2</td>\n",
       "      <td>1</td>\n",
       "      <td>3</td>\n",
       "      <td>1</td>\n",
       "      <td>4</td>\n",
       "      <td>...</td>\n",
       "      <td>2</td>\n",
       "      <td>1</td>\n",
       "      <td>2</td>\n",
       "      <td>2</td>\n",
       "      <td>2</td>\n",
       "      <td>1</td>\n",
       "      <td>2</td>\n",
       "      <td>2</td>\n",
       "      <td>1</td>\n",
       "      <td>1</td>\n",
       "    </tr>\n",
       "    <tr>\n",
       "      <th>...</th>\n",
       "      <td>...</td>\n",
       "      <td>...</td>\n",
       "      <td>...</td>\n",
       "      <td>...</td>\n",
       "      <td>...</td>\n",
       "      <td>...</td>\n",
       "      <td>...</td>\n",
       "      <td>...</td>\n",
       "      <td>...</td>\n",
       "      <td>...</td>\n",
       "      <td>...</td>\n",
       "      <td>...</td>\n",
       "      <td>...</td>\n",
       "      <td>...</td>\n",
       "      <td>...</td>\n",
       "      <td>...</td>\n",
       "      <td>...</td>\n",
       "      <td>...</td>\n",
       "      <td>...</td>\n",
       "      <td>...</td>\n",
       "      <td>...</td>\n",
       "    </tr>\n",
       "    <tr>\n",
       "      <th>140</th>\n",
       "      <td>2</td>\n",
       "      <td>1</td>\n",
       "      <td>2</td>\n",
       "      <td>3</td>\n",
       "      <td>1</td>\n",
       "      <td>1</td>\n",
       "      <td>2</td>\n",
       "      <td>1</td>\n",
       "      <td>1</td>\n",
       "      <td>2</td>\n",
       "      <td>...</td>\n",
       "      <td>1</td>\n",
       "      <td>1</td>\n",
       "      <td>2</td>\n",
       "      <td>1</td>\n",
       "      <td>2</td>\n",
       "      <td>1</td>\n",
       "      <td>3</td>\n",
       "      <td>3</td>\n",
       "      <td>9</td>\n",
       "      <td>5</td>\n",
       "    </tr>\n",
       "    <tr>\n",
       "      <th>141</th>\n",
       "      <td>1</td>\n",
       "      <td>1</td>\n",
       "      <td>2</td>\n",
       "      <td>4</td>\n",
       "      <td>2</td>\n",
       "      <td>2</td>\n",
       "      <td>2</td>\n",
       "      <td>1</td>\n",
       "      <td>4</td>\n",
       "      <td>2</td>\n",
       "      <td>...</td>\n",
       "      <td>1</td>\n",
       "      <td>1</td>\n",
       "      <td>3</td>\n",
       "      <td>2</td>\n",
       "      <td>2</td>\n",
       "      <td>1</td>\n",
       "      <td>5</td>\n",
       "      <td>3</td>\n",
       "      <td>9</td>\n",
       "      <td>5</td>\n",
       "    </tr>\n",
       "    <tr>\n",
       "      <th>142</th>\n",
       "      <td>2</td>\n",
       "      <td>1</td>\n",
       "      <td>1</td>\n",
       "      <td>4</td>\n",
       "      <td>2</td>\n",
       "      <td>2</td>\n",
       "      <td>2</td>\n",
       "      <td>1</td>\n",
       "      <td>1</td>\n",
       "      <td>1</td>\n",
       "      <td>...</td>\n",
       "      <td>1</td>\n",
       "      <td>1</td>\n",
       "      <td>3</td>\n",
       "      <td>3</td>\n",
       "      <td>2</td>\n",
       "      <td>1</td>\n",
       "      <td>4</td>\n",
       "      <td>3</td>\n",
       "      <td>9</td>\n",
       "      <td>1</td>\n",
       "    </tr>\n",
       "    <tr>\n",
       "      <th>143</th>\n",
       "      <td>2</td>\n",
       "      <td>1</td>\n",
       "      <td>2</td>\n",
       "      <td>4</td>\n",
       "      <td>1</td>\n",
       "      <td>1</td>\n",
       "      <td>1</td>\n",
       "      <td>5</td>\n",
       "      <td>2</td>\n",
       "      <td>3</td>\n",
       "      <td>...</td>\n",
       "      <td>2</td>\n",
       "      <td>1</td>\n",
       "      <td>2</td>\n",
       "      <td>1</td>\n",
       "      <td>2</td>\n",
       "      <td>1</td>\n",
       "      <td>5</td>\n",
       "      <td>3</td>\n",
       "      <td>9</td>\n",
       "      <td>4</td>\n",
       "    </tr>\n",
       "    <tr>\n",
       "      <th>144</th>\n",
       "      <td>1</td>\n",
       "      <td>1</td>\n",
       "      <td>1</td>\n",
       "      <td>5</td>\n",
       "      <td>2</td>\n",
       "      <td>2</td>\n",
       "      <td>2</td>\n",
       "      <td>3</td>\n",
       "      <td>1</td>\n",
       "      <td>1</td>\n",
       "      <td>...</td>\n",
       "      <td>2</td>\n",
       "      <td>1</td>\n",
       "      <td>3</td>\n",
       "      <td>2</td>\n",
       "      <td>3</td>\n",
       "      <td>1</td>\n",
       "      <td>5</td>\n",
       "      <td>4</td>\n",
       "      <td>9</td>\n",
       "      <td>3</td>\n",
       "    </tr>\n",
       "  </tbody>\n",
       "</table>\n",
       "<p>145 rows × 32 columns</p>\n",
       "</div>"
      ],
      "text/plain": [
       "     Age  Sex  GradHSType  ScholarshipType  AdditionalWork  ArtSportActivity  \\\n",
       "0      2    2           3                3               1                 2   \n",
       "1      2    2           3                3               1                 2   \n",
       "2      2    2           2                3               2                 2   \n",
       "3      1    1           1                3               1                 2   \n",
       "4      2    2           1                3               2                 2   \n",
       "..   ...  ...         ...              ...             ...               ...   \n",
       "140    2    1           2                3               1                 1   \n",
       "141    1    1           2                4               2                 2   \n",
       "142    2    1           1                4               2                 2   \n",
       "143    2    1           2                4               1                 1   \n",
       "144    1    1           1                5               2                 2   \n",
       "\n",
       "     MaritalStatus  TotalSalary  Transportation  AccommType  ...  \\\n",
       "0                2            1               1           1  ...   \n",
       "1                2            1               1           1  ...   \n",
       "2                2            2               4           2  ...   \n",
       "3                1            2               1           2  ...   \n",
       "4                1            3               1           4  ...   \n",
       "..             ...          ...             ...         ...  ...   \n",
       "140              2            1               1           2  ...   \n",
       "141              2            1               4           2  ...   \n",
       "142              2            1               1           1  ...   \n",
       "143              1            5               2           3  ...   \n",
       "144              2            3               1           1  ...   \n",
       "\n",
       "     MidtermPrepPeople  MidtermPrepDuration  TakeNotes  ListenInClass  \\\n",
       "0                    1                    1          3              2   \n",
       "1                    1                    1          3              2   \n",
       "2                    1                    1          2              2   \n",
       "3                    1                    2          3              2   \n",
       "4                    2                    1          2              2   \n",
       "..                 ...                  ...        ...            ...   \n",
       "140                  1                    1          2              1   \n",
       "141                  1                    1          3              2   \n",
       "142                  1                    1          3              3   \n",
       "143                  2                    1          2              1   \n",
       "144                  2                    1          3              2   \n",
       "\n",
       "     PreferDiscussion  FlipClassroom  PrevCGPA  ExpectedCGPA  CourseID  \\\n",
       "0                   1              2         1             1         1   \n",
       "1                   3              2         2             3         1   \n",
       "2                   1              1         2             2         1   \n",
       "3                   2              1         3             2         1   \n",
       "4                   2              1         2             2         1   \n",
       "..                ...            ...       ...           ...       ...   \n",
       "140                 2              1         3             3         9   \n",
       "141                 2              1         5             3         9   \n",
       "142                 2              1         4             3         9   \n",
       "143                 2              1         5             3         9   \n",
       "144                 3              1         5             4         9   \n",
       "\n",
       "     OutputGrade  \n",
       "0              1  \n",
       "1              1  \n",
       "2              1  \n",
       "3              1  \n",
       "4              1  \n",
       "..           ...  \n",
       "140            5  \n",
       "141            5  \n",
       "142            1  \n",
       "143            4  \n",
       "144            3  \n",
       "\n",
       "[145 rows x 32 columns]"
      ]
     },
     "execution_count": 14,
     "metadata": {},
     "output_type": "execute_result"
    }
   ],
   "source": [
    "df_feat_target"
   ]
  },
  {
   "cell_type": "markdown",
   "id": "1176ed90",
   "metadata": {
    "id": "1176ed90"
   },
   "source": [
    "## Exploratory Data Analysis <a name=\"EDA \"></a>"
   ]
  },
  {
   "cell_type": "markdown",
   "id": "4d438fef-bc83-4ea4-8572-572be4ed7b15",
   "metadata": {},
   "source": [
    "Below is the correlation matrix of all the features within the dataset. Upon initial observation, it is clear that only a handful of features correlate highly, while many features demonstrate minimal to almost no correlation with others. Keep in mind that correlation here doesn't necessarily imply causation for every feature. I will delve deeper into this observation later on and address the proposed <b>RQ2</b> - <I>Does One-Hot Encoding directly impact the performance of the chosen models?</i>"
   ]
  },
  {
   "cell_type": "code",
   "execution_count": 15,
   "id": "18ef743f",
   "metadata": {
    "colab": {
     "base_uri": "https://localhost:8080/",
     "height": 1000
    },
    "id": "18ef743f",
    "outputId": "6d9cc3f5-1fe9-4e2d-8680-0c6156ca13e8"
   },
   "outputs": [
    {
     "data": {
      "image/png": "[encoded data removed]",
      "text/plain": [
       "<Figure size 936x792 with 2 Axes>"
      ]
     },
     "metadata": {
      "needs_background": "light"
     },
     "output_type": "display_data"
    }
   ],
   "source": [
    "matrix = np.triu(df_feat_target.corr())\n",
    "\n",
    "fig = plt.figure(figsize = (13,11))\n",
    "sns.heatmap(df_feat_target.corr(), linecolor = 'white', \n",
    "            linewidth = 0.6, \n",
    "            cmap = sns.diverging_palette(220, 20, as_cmap=True), \n",
    "            mask = matrix, annot = False)\n",
    "plt.show()"
   ]
  },
  {
   "cell_type": "markdown",
   "id": "2a158d09-0cfc-4a6c-8e16-2e716aaeea8c",
   "metadata": {},
   "source": [
    "The graphs below illustrate the proportion of students' output grades in the dataset. The distribution of classes is highly imbalanced, with Class 1 constituting 24% of the entire dataset, and Class 0 only accounting for 6% of the dataset. The imbalanced distribution of classes can majorly influence the predictive ability of the Machine Learning model."
   ]
  },
  {
   "cell_type": "code",
   "execution_count": 16,
   "id": "840abda9",
   "metadata": {
    "colab": {
     "base_uri": "https://localhost:8080/",
     "height": 507
    },
    "id": "840abda9",
    "outputId": "1017e562-bc8b-4ad0-890d-6c5dacaf2609"
   },
   "outputs": [
    {
     "data": {
      "image/png": "[encoded data removed]",
      "text/plain": [
       "<Figure size 1080x576 with 2 Axes>"
      ]
     },
     "metadata": {
      "needs_background": "light"
     },
     "output_type": "display_data"
    }
   ],
   "source": [
    "outputgrade_class_count = [len(df_feat_target[df_feat_target['OutputGrade']==x]) for x in sorted(df_target.unique())]\n",
    "labels = [ 'class '+str(x) for x in sorted(df_target.unique())]\n",
    "explode = [0, 0.1, 0, 0, 0, 0, 0, 0]\n",
    "\n",
    "fig, axes = plt.subplots(nrows=1, ncols=2, figsize = (15,8), dpi = 72)\n",
    "axes[0].pie(outputgrade_class_count, labels = labels, autopct = '%.0f%%', colors = sns.color_palette('Set3'), explode = explode, shadow = True)\n",
    "axes[0].set_title('Proportion of student in each OutputGrade')\n",
    "\n",
    "barh_classes = axes[1].barh(y = labels, width = outputgrade_class_count, color = sns.color_palette('Set3'))\n",
    "axes[1].bar_label(barh_classes)\n",
    "axes[1].set_title('Count of the number of students belonging to each OuputGrade')\n",
    "axes[1].set_axisbelow(True)\n",
    "axes[1].grid(linestyle = ':',axis = 'x')\n",
    "\n",
    "plt.show()"
   ]
  },
  {
   "cell_type": "markdown",
   "id": "e91ed9e6-a7c2-41b2-97ca-5cb9f6cb09b7",
   "metadata": {},
   "source": [
    "Additionally, the majority of student information and their family's details collected relate to female students, constituting 60% of the dataset and male student constituting only 40% of the dataset. This suggests that male students are significantly underrepresented in this dataset, potentially impacting the machine learning models' ability to accurately classify male students into the correct classes. The models may acquired more knowledge about female students due to their higher representation in the dataset."
   ]
  },
  {
   "cell_type": "code",
   "execution_count": 17,
   "id": "23a2c252",
   "metadata": {
    "colab": {
     "base_uri": "https://localhost:8080/",
     "height": 507
    },
    "id": "23a2c252",
    "outputId": "52af2abf-3d85-4237-d905-4fbcb13cf468"
   },
   "outputs": [
    {
     "data": {
      "image/png": "[encoded data removed]",
      "text/plain": [
       "<Figure size 1080x576 with 2 Axes>"
      ]
     },
     "metadata": {
      "needs_background": "light"
     },
     "output_type": "display_data"
    }
   ],
   "source": [
    "male, female = (df_feat_target['Sex'] == 1).sum(), (df_feat_target['Sex'] == 2).sum()\n",
    "male_female_proportion = [male, female]\n",
    "\n",
    "fig, axes = plt.subplots(nrows=1, ncols=2, figsize = (15,8), dpi = 72)\n",
    "\n",
    "axes[0].pie(male_female_proportion, labels = ['Male', 'Female'], colors = ['mediumturquoise','lightsalmon'], autopct = '%.0f%%', shadow = True)\n",
    "axes[0].set_title('Proportion of male and female in the dataset')\n",
    "\n",
    "barh_male_female = axes[1].barh(y = ['Male','Female'], width = male_female_proportion, color = ['mediumturquoise','lightsalmon'])\n",
    "axes[1].bar_label(barh_male_female)\n",
    "axes[1].set_title('Count of male and female in the dataset')\n",
    "axes[1].set_axisbelow(True)\n",
    "axes[1].grid(linestyle = ':',axis = 'x')\n",
    "\n",
    "plt.show()"
   ]
  },
  {
   "cell_type": "markdown",
   "id": "955b6c23-34bc-4e40-af4d-501c4cb50ae3",
   "metadata": {},
   "source": [
    "From this point onward, it must be noted that any visualisations related to the proportion of male and female students may not accurately reflect the real world, given that male students are underrepresented in this dataset."
   ]
  },
  {
   "cell_type": "markdown",
   "id": "0c996f26-e3d3-458b-ba60-32db940fdcab",
   "metadata": {},
   "source": [
    "I aimed to investigate how the general behaviour of students within the classroom, such as their frequency of taking notes and whether or not they listen in class, influences their  performance."
   ]
  },
  {
   "cell_type": "markdown",
   "id": "5a848b49-8c74-48a1-8d10-365505ac2f19",
   "metadata": {},
   "source": [
    "From the snippet of code below, we can observe that 84 students always take notes during the class, 56 students take notes sometimes, and only 5 students say that they never take notes..s"
   ]
  },
  {
   "cell_type": "code",
   "execution_count": 18,
   "id": "d0fd8a18",
   "metadata": {
    "colab": {
     "base_uri": "https://localhost:8080/"
    },
    "id": "d0fd8a18",
    "outputId": "36e3bc88-48ad-40e3-9156-7b1e79a35581"
   },
   "outputs": [
    {
     "name": "stdout",
     "output_type": "stream",
     "text": [
      "[('Always', 84), ('Sometimes', 56), ('Never', 5)]\n"
     ]
    }
   ],
   "source": [
    "takenotes_count = tuple([(df_feat_target['TakeNotes']==i).sum() for i in sorted(df_feat_target['TakeNotes'].unique(), reverse=True)])\n",
    "takenotes_labels = ('Always', 'Sometimes', 'Never')\n",
    "takenotes_zipped = zip(takenotes_labels,takenotes_count)\n",
    "print(list(takenotes_zipped))"
   ]
  },
  {
   "cell_type": "markdown",
   "id": "fd0508ff-2d31-45a2-bf64-5c51b804f99c",
   "metadata": {},
   "source": [
    "Below, we can see that students who claim never to take notes during the class do not appear to score higher than grade CC (class 3). Additionally, there is a higher number of students achieving grade AA (class 7) among those who claim to always take notes in class compared to those who say they do it sometimes. Interestingly, there are more students obtaining grade DD (class 1) when they claim to always take notes than those who say they only do it sometimes."
   ]
  },
  {
   "cell_type": "code",
   "execution_count": 19,
   "id": "519df58f",
   "metadata": {
    "colab": {
     "base_uri": "https://localhost:8080/",
     "height": 505
    },
    "id": "519df58f",
    "outputId": "ef47941f-5a58-44aa-bc6c-c36c95244b9a"
   },
   "outputs": [
    {
     "data": {
      "image/png": "[encoded data removed]",
      "text/plain": [
       "<Figure size 936x576 with 2 Axes>"
      ]
     },
     "metadata": {
      "needs_background": "light"
     },
     "output_type": "display_data"
    }
   ],
   "source": [
    "fig, axes = plt.subplots(nrows = 1, ncols= 2, figsize = (13,8), dpi = 72)\n",
    "\n",
    "sns.set_style('whitegrid')\n",
    "\n",
    "takenotes_sex_bar = sns.countplot(data = df_feat_target, x = 'TakeNotes',hue = 'Sex', palette='pastel' ,ax = axes[0])\n",
    "axes[0].bar_label(axes[0].containers[0])\n",
    "axes[0].bar_label(axes[0].containers[1])\n",
    "axes[0].legend(labels = ['Male','Female'],loc = 'upper left')\n",
    "takenotes_sex_bar.set(xticklabels = ['Never', 'Sometimes', 'Always'])\n",
    "\n",
    "takenotes_outputgrade_bar = sns.countplot(data = df_feat_target, x = 'TakeNotes', hue = 'OutputGrade', palette='Set3', ax = axes[1])\n",
    "axes[1].legend(loc = 'upper left')\n",
    "takenotes_outputgrade_bar.set(xticklabels = ['Never', 'Sometimes', 'Always'])\n",
    "plt.show()"
   ]
  },
  {
   "cell_type": "code",
   "execution_count": 20,
   "id": "94da0dd7",
   "metadata": {
    "colab": {
     "base_uri": "https://localhost:8080/",
     "height": 507
    },
    "id": "94da0dd7",
    "outputId": "67444c01-e780-4f80-8e8c-8bfdd6205a27"
   },
   "outputs": [
    {
     "data": {
      "image/png": "[encoded data removed]",
      "text/plain": [
       "<Figure size 1728x648 with 24 Axes>"
      ]
     },
     "metadata": {},
     "output_type": "display_data"
    }
   ],
   "source": [
    "grid = sns.FacetGrid(df_feat_target, col='OutputGrade', row='TakeNotes')\n",
    "grid.map(sns.countplot,'Sex', palette='pastel',order=sorted([grade for grade in df_feat_target['Sex'].unique()]))\n",
    "plt.show()"
   ]
  },
  {
   "cell_type": "markdown",
   "id": "50e7133b-edb1-4932-8d4e-6331917e32e0",
   "metadata": {},
   "source": [
    "From the snippet of code below, we can observe that 84 students always take notes during the class, 56 students take notes sometimes, and only 5 students say that they never take notes."
   ]
  },
  {
   "cell_type": "code",
   "execution_count": 21,
   "id": "b5926e13",
   "metadata": {
    "colab": {
     "base_uri": "https://localhost:8080/"
    },
    "id": "b5926e13",
    "outputId": "fa5fa3c0-9b60-4ed5-af61-ac665b872415"
   },
   "outputs": [
    {
     "name": "stdout",
     "output_type": "stream",
     "text": [
      "[('Never', 29), ('Sometimes', 79), ('Always', 37)]\n"
     ]
    }
   ],
   "source": [
    "listenInClass_count = tuple([(df['ListenInClass']==i).sum() for i in sorted(df_feat_target['ListenInClass'].unique())])\n",
    "listenInClass_labels = ('Never', 'Sometimes', 'Always')\n",
    "listenInClass_zipped = zip(listenInClass_labels, listenInClass_count)\n",
    "print(list(listenInClass_zipped))"
   ]
  },
  {
   "cell_type": "markdown",
   "id": "c428a5a0-4afc-44df-b839-6b74ce4f7cea",
   "metadata": {},
   "source": [
    "It is observed that there are fewer students whose output grade is \"Fail\" when they claim to always listen in class compared to those who say they listen sometimes or never. Additionally, there are more students who obtained grades \"CC\" and \"CB\" as they claim they always listen in class. However, this doesn't necessary mean that students who listen in class all the time will obtain the highest grade. This is supported by the visualization of the number of students who claim they listen in class sometimes, where the number of students with grade \"AA\" is relatively larger than the number of students who obtain the same grade and claim they are always listening."
   ]
  },
  {
   "cell_type": "code",
   "execution_count": 22,
   "id": "8d6a90a1",
   "metadata": {
    "colab": {
     "base_uri": "https://localhost:8080/",
     "height": 505
    },
    "id": "8d6a90a1",
    "outputId": "a820f0f9-445f-4740-e329-1925bb956151"
   },
   "outputs": [
    {
     "data": {
      "image/png": "[encoded data removed]",
      "text/plain": [
       "<Figure size 936x576 with 2 Axes>"
      ]
     },
     "metadata": {},
     "output_type": "display_data"
    }
   ],
   "source": [
    "fig, axes = plt.subplots(nrows = 1, ncols= 2, figsize = (13,8), dpi = 72)\n",
    "\n",
    "sns.set_style('whitegrid')\n",
    "\n",
    "takenotes_sex_bar = sns.countplot(data = df_feat_target, x = 'ListenInClass',hue = 'Sex', palette='pastel' , order=sorted([listen for listen in sorted(df_feat_target['ListenInClass'].unique())]), ax = axes[0])\n",
    "axes[0].bar_label(axes[0].containers[0])\n",
    "axes[0].bar_label(axes[0].containers[1])\n",
    "axes[0].legend(labels = ['Male','Female'],loc = 'upper left')\n",
    "takenotes_sex_bar.set(xticklabels = ['Never', 'Sometimes', 'Always'])\n",
    "\n",
    "takenotes_outputgrade_bar = sns.countplot(data = df_feat_target, x = 'ListenInClass', hue = 'OutputGrade', palette='Set3', order=sorted([listen for listen in sorted(df_feat_target['ListenInClass'].unique())]),ax = axes[1])\n",
    "axes[1].legend(loc = 'upper left')\n",
    "takenotes_outputgrade_bar.set(xticklabels = ['Never', 'Sometimes', 'Always'])\n",
    "plt.show()"
   ]
  },
  {
   "cell_type": "code",
   "execution_count": 23,
   "id": "b855a8a1",
   "metadata": {
    "colab": {
     "base_uri": "https://localhost:8080/",
     "height": 507
    },
    "id": "b855a8a1",
    "outputId": "f6243406-9f66-4261-9187-dc72139c2055"
   },
   "outputs": [
    {
     "data": {
      "image/png": "[encoded data removed]",
      "text/plain": [
       "<Figure size 1728x648 with 24 Axes>"
      ]
     },
     "metadata": {},
     "output_type": "display_data"
    }
   ],
   "source": [
    "grid = sns.FacetGrid(df_feat_target, col='OutputGrade', row='ListenInClass')\n",
    "grid.map(sns.countplot,'Sex', palette='pastel',order=sorted([sex for sex in sorted(df_feat_target['Sex'].unique())]))\n",
    "plt.show()"
   ]
  },
  {
   "cell_type": "markdown",
   "id": "349792d6-ec47-4e8f-ae6c-054a46a7a989",
   "metadata": {},
   "source": [
    "The bar graph below reveals intriguing information, suggesting that no student is expected to achieve a CGPA above 3.49 (label 5). Furthermore, students whose CGPA was above 3.49 in the previous years did not maintain their grades. There are considerably more students expected to obtain a CGPA of 2.50 (label 3) than the number of students who obtained a CGPA of 2.50 in the previous year. However, it's worth noting that the number of students who obtained CGPA < 2.00 (label 1) and between 2.00-2.49 (label 2) remains the same, implying that those who obtained their previous CGPA above 3.49 are now expected to achieve CGPA between 2.50-2.99 (label 3) and possibly 3.00-3.49 (label 4) only."
   ]
  },
  {
   "cell_type": "code",
   "execution_count": 24,
   "id": "f73bb224",
   "metadata": {
    "colab": {
     "base_uri": "https://localhost:8080/",
     "height": 450
    },
    "id": "f73bb224",
    "outputId": "41e3dfbb-bada-4374-f1ab-d839818853cb"
   },
   "outputs": [
    {
     "data": {
      "image/png": "[encoded data removed]",
      "text/plain": [
       "<Figure size 864x504 with 2 Axes>"
      ]
     },
     "metadata": {},
     "output_type": "display_data"
    }
   ],
   "source": [
    "fig, axes = plt.subplots(nrows = 1, ncols= 2, figsize = (12,7), dpi = 72)\n",
    "\n",
    "sns.set_style('whitegrid')\n",
    "prevcgpa_bar = sns.countplot(data=df_feat_target, x='PrevCGPA', palette='pastel', ax=axes[0])\n",
    "axes[0].bar_label(axes[0].containers[0])\n",
    "\n",
    "prevcgpa_bar = sns.countplot(data=df_feat_target, x='ExpectedCGPA', palette='pastel', ax=axes[1])\n",
    "axes[1].bar_label(axes[1].containers[0])\n",
    "plt.show()"
   ]
  },
  {
   "cell_type": "markdown",
   "id": "9400c102-259d-46fa-b246-60c7603ac8b8",
   "metadata": {},
   "source": [
    "The visualisation below supports the analysis stated previously."
   ]
  },
  {
   "cell_type": "code",
   "execution_count": 25,
   "id": "08c0692a",
   "metadata": {
    "colab": {
     "base_uri": "https://localhost:8080/",
     "height": 1000
    },
    "id": "08c0692a",
    "outputId": "f460ef2f-6ae7-4599-fcf6-3e3476addc4d"
   },
   "outputs": [
    {
     "data": {
      "image/png": "[encoded data removed]",
      "text/plain": [
       "<Figure size 864x1080 with 20 Axes>"
      ]
     },
     "metadata": {},
     "output_type": "display_data"
    }
   ],
   "source": [
    "grid = sns.FacetGrid(df_feat_target, col='ExpectedCGPA', row='PrevCGPA')\n",
    "grid.map(sns.countplot,'Sex',palette='pastel',order=sorted([sex for sex in df_feat_target['Sex'].unique()]))\n",
    "plt.show()"
   ]
  },
  {
   "cell_type": "markdown",
   "id": "d1b6064f",
   "metadata": {
    "id": "d1b6064f"
   },
   "source": [
    "## Initial model training stage <a name=\"InitTraining\"></a>"
   ]
  },
  {
   "cell_type": "markdown",
   "id": "a950e6f1",
   "metadata": {
    "id": "a950e6f1"
   },
   "source": [
    "<b>RQ1</b>: How are classification models affected by a small dataset with numerous output classes?"
   ]
  },
  {
   "cell_type": "markdown",
   "id": "e0cd7b33",
   "metadata": {
    "id": "e0cd7b33"
   },
   "source": [
    "For the preliminary phase of model selection and training, I opted for four distinct classification models, including a probabilistic model (Naive Bayes), a tree model (Decision Tree), and ensemble models (Random Forest and Gradient Boosting)\n",
    "\n",
    "I chose these models based on the nature of the dataset, which primarily consists of categorical data encoded into numerical values.\n",
    "\n",
    "- Naive Bayes:\n",
    "     - Suitable for handling categorical data and is particularly effective when dealing with discrete features.\n",
    "     - Known for its simplicity. (Ray, 2019)\n",
    "     - Assumes that the features contribute the the classification of the classes independently. (Ray, 2019)\n",
    "- Decision Tree:\n",
    "     - It is easy to comprehend. (Castillo, 2021)\n",
    "     - Widely used as a way of representing the decision-making process. (Castillo, 2021)\n",
    "     - Capable at capturing non-linear relationships in the data, making them suitable for datasets with categorical attributes. (R, n.d.)\n",
    "- Random Forest and Gradient Boosting:\n",
    "     - Ensemble methods that excel in improving predictive accuracy by combining the strengths of multiple models, which proves beneficial in handling complex categorical datasets. (Alhamid, 2021)"
   ]
  },
  {
   "cell_type": "markdown",
   "id": "5f30ac67",
   "metadata": {
    "id": "5f30ac67"
   },
   "source": [
    "Below are user-defined utility functions that I have written to provide reusability and minimise both the number of lines and redundancy."
   ]
  },
  {
   "cell_type": "code",
   "execution_count": 28,
   "id": "2b1e1ac9",
   "metadata": {
    "id": "2b1e1ac9"
   },
   "outputs": [],
   "source": [
    "def train_test_CategoricalNB(x_train, x_test, y_train, y_test):\n",
    "    cnb = CategoricalNB(min_categories=2)\n",
    "    cnb.fit(x_train,y_train)\n",
    "    y_pred_cnb = cnb.predict(x_test)\n",
    "\n",
    "    return y_pred_cnb"
   ]
  },
  {
   "cell_type": "code",
   "execution_count": 29,
   "id": "d81a036a",
   "metadata": {
    "id": "d81a036a"
   },
   "outputs": [],
   "source": [
    "def train_test_DecisionTreeClassifier(x_train, x_test, y_train, y_test):\n",
    "    dt = DecisionTreeClassifier(criterion='entropy', max_features=None, max_depth=None, splitter='random', random_state=42)\n",
    "    dt.fit(x_train,y_train)\n",
    "    y_pred_dt = dt.predict(x_test)\n",
    "\n",
    "    return y_pred_dt"
   ]
  },
  {
   "cell_type": "code",
   "execution_count": 30,
   "id": "6d81b3fa",
   "metadata": {
    "id": "6d81b3fa"
   },
   "outputs": [],
   "source": [
    "def train_test_RandomForestClassifier(x_train, x_test, y_train, y_test):\n",
    "    rf = RandomForestClassifier(criterion='entropy', max_features=None, random_state=42)\n",
    "    rf.fit(x_train, y_train)\n",
    "    y_pred_rf = rf.predict(x_test)\n",
    "\n",
    "    return y_pred_rf"
   ]
  },
  {
   "cell_type": "code",
   "execution_count": 31,
   "id": "725c45b8",
   "metadata": {
    "id": "725c45b8"
   },
   "outputs": [],
   "source": [
    "def train_test_GradientBoostingClassifier(x_train, x_test, y_train, y_test):\n",
    "    gbc = GradientBoostingClassifier(n_estimators=25, learning_rate = 0.1, random_state=42)\n",
    "    gbc.fit(x_train,y_train)\n",
    "    y_pred_gbc = gbc.predict(x_test)\n",
    "\n",
    "    return y_pred_gbc"
   ]
  },
  {
   "cell_type": "code",
   "execution_count": 32,
   "id": "f6bd23b1",
   "metadata": {
    "id": "f6bd23b1"
   },
   "outputs": [],
   "source": [
    "def confusion_matrix_4_models(y_test,*y_pred):\n",
    "    fig, axes = plt.subplots(figsize=(12,10), nrows=2, ncols=2)\n",
    "\n",
    "    cm_cnb = confusion_matrix(y_test, y_pred[0])\n",
    "    cm_dt = confusion_matrix(y_test, y_pred[1])\n",
    "    cm_rf = confusion_matrix(y_test, y_pred[2])\n",
    "    cm_gbc = confusion_matrix(y_test, y_pred[3])\n",
    "\n",
    "    sns.heatmap(cm_cnb, annot = True, cmap = 'YlGnBu', ax=axes[0][0])\n",
    "    axes[0][0].set_title('Categorical Naive Bayes')\n",
    "\n",
    "    sns.heatmap(cm_dt, annot = True, cmap = 'YlGnBu', ax=axes[0][1])\n",
    "    axes[0][1].set_title('Decision Tree')\n",
    "\n",
    "    sns.heatmap(cm_rf, annot = True, cmap = 'YlGnBu', ax=axes[1][0])\n",
    "    axes[1][0].set_title('Random Forest')\n",
    "\n",
    "    sns.heatmap(cm_gbc, annot = True, cmap = 'YlGnBu', ax=axes[1][1])\n",
    "    axes[1][1].set_title('Gradient Boosting')\n",
    "\n",
    "    plt.show()"
   ]
  },
  {
   "cell_type": "code",
   "execution_count": 33,
   "id": "1d4ddaad",
   "metadata": {
    "id": "1d4ddaad"
   },
   "outputs": [],
   "source": [
    "def print_performance_report(y_test,y_pred):\n",
    "    print(classification_report(y_test,y_pred))\n",
    "    print('-------------------------------------------------------')"
   ]
  },
  {
   "cell_type": "markdown",
   "id": "c82b6627",
   "metadata": {
    "id": "c82b6627"
   },
   "source": [
    "### Splitting the data into training and testing <a name=\"InitSplit\"></a>"
   ]
  },
  {
   "cell_type": "markdown",
   "id": "1dc2ab1e",
   "metadata": {
    "id": "1dc2ab1e"
   },
   "source": [
    "'df_features_baseline' is a data frame comprising all the features (excluding the student ID) within the dataset. This will serve as our \"controlled\" dataset for experimenting and comparing the results of the models throughout this exploration."
   ]
  },
  {
   "cell_type": "code",
   "execution_count": 34,
   "id": "53e48f69",
   "metadata": {
    "id": "53e48f69"
   },
   "outputs": [],
   "source": [
    "df_features_baseline = df_features\n",
    "\n",
    "x = df_features_baseline\n",
    "y = df_target"
   ]
  },
  {
   "cell_type": "markdown",
   "id": "0652d54e",
   "metadata": {
    "id": "0652d54e"
   },
   "source": [
    "The data is being divided into an 80% training set and a 20% testing set, consistently utilizing a random_state of 42 across the entire experiment. This ensures that the models are trained and tested on consistent data sets, avoiding randomization. Additionally, the stratify parameter is set to 'y' to uphold the proportions of the original dataset, addressing the significant imbalance in our data."
   ]
  },
  {
   "cell_type": "code",
   "execution_count": 35,
   "id": "533a33f2",
   "metadata": {
    "id": "533a33f2"
   },
   "outputs": [],
   "source": [
    "x_train, x_test, y_train, y_test = train_test_split(x, y, test_size = 0.2, stratify = y, random_state = 42)"
   ]
  },
  {
   "cell_type": "markdown",
   "id": "4ebf885e",
   "metadata": {
    "id": "4ebf885e"
   },
   "source": [
    "### Training & Evaluating the models with confusion matrix <a name=\"TrainEval\"></a>"
   ]
  },
  {
   "cell_type": "markdown",
   "id": "ab2e7035",
   "metadata": {
    "id": "ab2e7035"
   },
   "source": [
    "#### Categorical Naive Bayes, Decision Tree, Random Forest & Gradient Boosting <a name=\"First4Models\"></a>"
   ]
  },
  {
   "cell_type": "code",
   "execution_count": 36,
   "id": "2c88d25c",
   "metadata": {
    "id": "2c88d25c"
   },
   "outputs": [],
   "source": [
    "y_pred_cnb = train_test_CategoricalNB(x_train, x_test, y_train, y_test)\n",
    "y_pred_dt = train_test_DecisionTreeClassifier(x_train, x_test, y_train, y_test)\n",
    "y_pred_rf = train_test_RandomForestClassifier(x_train, x_test, y_train, y_test)\n",
    "y_pred_gbc = train_test_GradientBoostingClassifier(x_train, x_test, y_train, y_test)"
   ]
  },
  {
   "cell_type": "markdown",
   "id": "00aad12f",
   "metadata": {
    "id": "00aad12f"
   },
   "source": [
    "#### Classification report <a name=\"InitCR\"></a>"
   ]
  },
  {
   "cell_type": "markdown",
   "id": "QvnNDEDki37C",
   "metadata": {
    "id": "QvnNDEDki37C"
   },
   "source": [
    "Given the substantial imbalance in our dataset, where one class significantly outnumbers the others, relying solely on accuracy may not offer an accurate reflection of model performance. The weighted F1 score, by considering the contribution of each class, proves to be more robust in such situations."
   ]
  },
  {
   "cell_type": "code",
   "execution_count": 37,
   "id": "ead3c643",
   "metadata": {
    "colab": {
     "base_uri": "https://localhost:8080/"
    },
    "id": "ead3c643",
    "outputId": "1ae07277-697a-4601-d066-d4505eb96b13",
    "scrolled": true
   },
   "outputs": [
    {
     "name": "stdout",
     "output_type": "stream",
     "text": [
      "Categorical Naive Bayes\n",
      "              precision    recall  f1-score   support\n",
      "\n",
      "           0       0.00      0.00      0.00         2\n",
      "           1       0.31      0.71      0.43         7\n",
      "           2       0.50      0.20      0.29         5\n",
      "           3       0.50      0.75      0.60         4\n",
      "           4       0.00      0.00      0.00         2\n",
      "           5       0.00      0.00      0.00         3\n",
      "           6       0.33      0.33      0.33         3\n",
      "           7       1.00      0.33      0.50         3\n",
      "\n",
      "    accuracy                           0.38        29\n",
      "   macro avg       0.33      0.29      0.27        29\n",
      "weighted avg       0.37      0.38      0.32        29\n",
      "\n",
      "-------------------------------------------------------\n",
      "Decision Tree - ID3\n",
      "              precision    recall  f1-score   support\n",
      "\n",
      "           0       0.00      0.00      0.00         2\n",
      "           1       0.17      0.14      0.15         7\n",
      "           2       0.00      0.00      0.00         5\n",
      "           3       0.25      0.25      0.25         4\n",
      "           4       0.00      0.00      0.00         2\n",
      "           5       0.12      0.33      0.18         3\n",
      "           6       0.00      0.00      0.00         3\n",
      "           7       1.00      0.33      0.50         3\n",
      "\n",
      "    accuracy                           0.14        29\n",
      "   macro avg       0.19      0.13      0.14        29\n",
      "weighted avg       0.19      0.14      0.14        29\n",
      "\n",
      "-------------------------------------------------------\n",
      "Random Forest\n",
      "              precision    recall  f1-score   support\n",
      "\n",
      "           0       0.00      0.00      0.00         2\n",
      "           1       0.33      0.57      0.42         7\n",
      "           2       0.33      0.40      0.36         5\n",
      "           3       0.17      0.25      0.20         4\n",
      "           4       0.00      0.00      0.00         2\n",
      "           5       1.00      0.33      0.50         3\n",
      "           6       0.50      0.33      0.40         3\n",
      "           7       1.00      0.33      0.50         3\n",
      "\n",
      "    accuracy                           0.34        29\n",
      "   macro avg       0.42      0.28      0.30        29\n",
      "weighted avg       0.42      0.34      0.34        29\n",
      "\n",
      "-------------------------------------------------------\n",
      "Gradient Boosting\n",
      "              precision    recall  f1-score   support\n",
      "\n",
      "           0       0.00      0.00      0.00         2\n",
      "           1       0.33      0.29      0.31         7\n",
      "           2       0.33      0.40      0.36         5\n",
      "           3       0.50      0.75      0.60         4\n",
      "           4       0.00      0.00      0.00         2\n",
      "           5       0.50      0.33      0.40         3\n",
      "           6       0.60      1.00      0.75         3\n",
      "           7       0.00      0.00      0.00         3\n",
      "\n",
      "    accuracy                           0.38        29\n",
      "   macro avg       0.28      0.35      0.30        29\n",
      "weighted avg       0.32      0.38      0.34        29\n",
      "\n",
      "-------------------------------------------------------\n"
     ]
    }
   ],
   "source": [
    "print('Categorical Naive Bayes')\n",
    "print_performance_report(y_test, y_pred_cnb)\n",
    "print('Decision Tree - ID3')\n",
    "print_performance_report(y_test, y_pred_dt)\n",
    "print('Random Forest')\n",
    "print_performance_report(y_test, y_pred_rf)\n",
    "print('Gradient Boosting')\n",
    "print_performance_report(y_test, y_pred_gbc)"
   ]
  },
  {
   "cell_type": "markdown",
   "id": "3ac49d4d",
   "metadata": {
    "id": "3ac49d4d"
   },
   "source": [
    "#### Confusion matrix <a name=\"InitCM\"></a>"
   ]
  },
  {
   "cell_type": "code",
   "execution_count": 38,
   "id": "2403e1d3",
   "metadata": {
    "colab": {
     "base_uri": "https://localhost:8080/",
     "height": 853
    },
    "id": "2403e1d3",
    "outputId": "0eeee05e-91db-4782-99a4-b25478647c38"
   },
   "outputs": [
    {
     "data": {
      "image/png": "[encoded data removed]",
      "text/plain": [
       "<Figure size 864x720 with 8 Axes>"
      ]
     },
     "metadata": {},
     "output_type": "display_data"
    }
   ],
   "source": [
    "confusion_matrix_4_models(y_test, y_pred_cnb, y_pred_dt, y_pred_rf, y_pred_gbc)"
   ]
  },
  {
   "cell_type": "markdown",
   "id": "82ac585d",
   "metadata": {
    "id": "82ac585d"
   },
   "source": [
    "|         Model         | Accuracy | Weighted Precision | Weighted Recall | Weighted F1|\n",
    "|:----------------------|:--------:|:------------------:|:---------------:|:----------:|\n",
    "|<b>Categorical Naive Bayes|<b>0.38|<b>0.37|<b>0.38|<b>0.32|\n",
    "|Decision Tree - ID3    |0.14|0.19|0.14|0.14|\n",
    "|Random Forest          |0.28|0.18|0.28|0.22|\n",
    "|Gradient Boosting      |0.31|0.26|0.31|0.28|\n",
    "\n",
    "\\\n",
    "\n",
    "It is observed that the Categorical Naive Bayes outperforms the rest of the selected models"
   ]
  },
  {
   "cell_type": "markdown",
   "id": "0b3eee1b",
   "metadata": {
    "id": "0b3eee1b"
   },
   "source": [
    "## Feature selection <a name=\"FeatSelect\"></a>"
   ]
  },
  {
   "cell_type": "markdown",
   "id": "ee3b42fb",
   "metadata": {
    "id": "ee3b42fb"
   },
   "source": [
    "### Model Training with the one-hot encoded data (All features are used) <a name=\"TrainOHE\"></a>"
   ]
  },
  {
   "cell_type": "markdown",
   "id": "82c3ce11",
   "metadata": {
    "id": "82c3ce11"
   },
   "source": [
    "<b>RQ2</b>: Does One-Hot Encoding directly impact the performance of the chosen models?"
   ]
  },
  {
   "cell_type": "markdown",
   "id": "7a6e6e59",
   "metadata": {
    "id": "7a6e6e59"
   },
   "source": [
    "#### Defining the columns to be One-Hot Encoded <a name=\"DefineOHECol\"></a>"
   ]
  },
  {
   "cell_type": "markdown",
   "id": "3b520746",
   "metadata": {
    "id": "3b520746"
   },
   "source": [
    "In the dataset, all the information is categorised but is expressed in numerical values. However, several of these representations lack meaningful interpretation when confined to a finite range of numbers, e.g., \"Sex\", \"GradHSType\", \"ParentalStatus\", etc. In contrast, there are instances where the data logically fits within a finite range, representing some form of order (ordinal data).\n",
    "\\\n",
    "\\\n",
    "Therefore, I have chosen to apply one-hot encoding specifically to the nominal features within the dataset."
   ]
  },
  {
   "cell_type": "code",
   "execution_count": 39,
   "id": "84fc6cd9",
   "metadata": {
    "id": "84fc6cd9"
   },
   "outputs": [],
   "source": [
    "to_one_hot_encode_cols = ['Sex','GradHSType','AdditionalWork','ArtSportActivity','MaritalStatus',\n",
    "                        'Transportation','AccommType','ParentalStatus','MotherOccup','FatherOccup',\n",
    "                        'AttendanceSeminars','ProjectImpact','MidtermPrepPeople','FlipClassroom']"
   ]
  },
  {
   "cell_type": "code",
   "execution_count": 40,
   "id": "398053e7",
   "metadata": {
    "id": "398053e7"
   },
   "outputs": [],
   "source": [
    "df_features_baseline_col_OHE = pd.get_dummies(data = df_features_baseline, columns = to_one_hot_encode_cols)"
   ]
  },
  {
   "cell_type": "code",
   "execution_count": 41,
   "id": "0b28282a",
   "metadata": {
    "id": "0b28282a"
   },
   "outputs": [],
   "source": [
    "x = df_features_baseline_col_OHE\n",
    "y = df_target"
   ]
  },
  {
   "cell_type": "markdown",
   "id": "c59f47e2",
   "metadata": {
    "id": "c59f47e2"
   },
   "source": [
    "#### Splitting the data <a name=\"OHESplit\"></a>"
   ]
  },
  {
   "cell_type": "code",
   "execution_count": 42,
   "id": "295bd870",
   "metadata": {
    "id": "295bd870"
   },
   "outputs": [],
   "source": [
    "x_train, x_test, y_train, y_test = train_test_split(x, y, test_size = 0.2, stratify = y, random_state = 42)"
   ]
  },
  {
   "cell_type": "markdown",
   "id": "aff8318c",
   "metadata": {
    "id": "aff8318c"
   },
   "source": [
    "#### Training Categorical Naive Bayes, Decision Tree, Random Forest & Gradient Boosting <a name=\"OHEModelTraining\"></a>"
   ]
  },
  {
   "cell_type": "code",
   "execution_count": 43,
   "id": "324786a6",
   "metadata": {
    "id": "324786a6"
   },
   "outputs": [],
   "source": [
    "y_pred_cnb = train_test_CategoricalNB(x_train, x_test, y_train, y_test)\n",
    "y_pred_dt = train_test_DecisionTreeClassifier(x_train, x_test, y_train, y_test)\n",
    "y_pred_rf = train_test_RandomForestClassifier(x_train, x_test, y_train, y_test)\n",
    "y_pred_rf = train_test_GradientBoostingClassifier(x_train, x_test, y_train, y_test)"
   ]
  },
  {
   "cell_type": "markdown",
   "id": "01fa4ab2",
   "metadata": {
    "id": "01fa4ab2"
   },
   "source": [
    "#### Performance Evaluation <a name=\"OHEPerformanceEval\"></a>"
   ]
  },
  {
   "cell_type": "markdown",
   "id": "16a72e1a",
   "metadata": {
    "id": "16a72e1a"
   },
   "source": [
    "##### Classification report <a name=\"OHECR\"></a>"
   ]
  },
  {
   "cell_type": "code",
   "execution_count": 44,
   "id": "d08f3ffa",
   "metadata": {
    "colab": {
     "base_uri": "https://localhost:8080/"
    },
    "id": "d08f3ffa",
    "outputId": "87049b46-ec5b-49e4-fbe5-040af42dd766",
    "scrolled": true
   },
   "outputs": [
    {
     "name": "stdout",
     "output_type": "stream",
     "text": [
      "Categorical Naive Bayes\n",
      "              precision    recall  f1-score   support\n",
      "\n",
      "           0       1.00      0.50      0.67         2\n",
      "           1       0.36      0.57      0.44         7\n",
      "           2       0.33      0.20      0.25         5\n",
      "           3       0.40      0.50      0.44         4\n",
      "           4       0.00      0.00      0.00         2\n",
      "           5       0.33      0.33      0.33         3\n",
      "           6       0.33      0.33      0.33         3\n",
      "           7       1.00      0.33      0.50         3\n",
      "\n",
      "    accuracy                           0.38        29\n",
      "   macro avg       0.47      0.35      0.37        29\n",
      "weighted avg       0.44      0.38      0.38        29\n",
      "\n",
      "-------------------------------------------------------\n",
      "Decision Tree - ID3\n",
      "              precision    recall  f1-score   support\n",
      "\n",
      "           0       0.00      0.00      0.00         2\n",
      "           1       0.00      0.00      0.00         7\n",
      "           2       0.12      0.20      0.15         5\n",
      "           3       0.00      0.00      0.00         4\n",
      "           4       0.00      0.00      0.00         2\n",
      "           5       0.00      0.00      0.00         3\n",
      "           6       0.00      0.00      0.00         3\n",
      "           7       0.00      0.00      0.00         3\n",
      "\n",
      "    accuracy                           0.03        29\n",
      "   macro avg       0.02      0.03      0.02        29\n",
      "weighted avg       0.02      0.03      0.03        29\n",
      "\n",
      "-------------------------------------------------------\n",
      "Random Forest\n",
      "              precision    recall  f1-score   support\n",
      "\n",
      "           0       0.00      0.00      0.00         2\n",
      "           1       0.17      0.14      0.15         7\n",
      "           2       0.33      0.40      0.36         5\n",
      "           3       0.43      0.75      0.55         4\n",
      "           4       0.00      0.00      0.00         2\n",
      "           5       0.50      0.33      0.40         3\n",
      "           6       0.50      0.67      0.57         3\n",
      "           7       0.00      0.00      0.00         3\n",
      "\n",
      "    accuracy                           0.31        29\n",
      "   macro avg       0.24      0.29      0.25        29\n",
      "weighted avg       0.26      0.31      0.28        29\n",
      "\n",
      "-------------------------------------------------------\n",
      "Gradient Boosting\n",
      "              precision    recall  f1-score   support\n",
      "\n",
      "           0       0.00      0.00      0.00         2\n",
      "           1       0.33      0.29      0.31         7\n",
      "           2       0.33      0.40      0.36         5\n",
      "           3       0.50      0.75      0.60         4\n",
      "           4       0.00      0.00      0.00         2\n",
      "           5       0.50      0.33      0.40         3\n",
      "           6       0.60      1.00      0.75         3\n",
      "           7       0.00      0.00      0.00         3\n",
      "\n",
      "    accuracy                           0.38        29\n",
      "   macro avg       0.28      0.35      0.30        29\n",
      "weighted avg       0.32      0.38      0.34        29\n",
      "\n",
      "-------------------------------------------------------\n"
     ]
    }
   ],
   "source": [
    "print('Categorical Naive Bayes')\n",
    "print_performance_report(y_test, y_pred_cnb)\n",
    "print('Decision Tree - ID3')\n",
    "print_performance_report(y_test, y_pred_dt)\n",
    "print('Random Forest')\n",
    "print_performance_report(y_test, y_pred_rf)\n",
    "print('Gradient Boosting')\n",
    "print_performance_report(y_test, y_pred_gbc)"
   ]
  },
  {
   "cell_type": "markdown",
   "id": "75529de4",
   "metadata": {
    "id": "75529de4"
   },
   "source": [
    "##### Confusion matrix <a name=\"OHECM\"></a>"
   ]
  },
  {
   "cell_type": "code",
   "execution_count": 45,
   "id": "649ccfff",
   "metadata": {
    "colab": {
     "base_uri": "https://localhost:8080/",
     "height": 853
    },
    "id": "649ccfff",
    "outputId": "ae09cbb7-b8fa-439e-8bcf-39c73302e439"
   },
   "outputs": [
    {
     "data": {
      "image/png": "[encoded data removed]",
      "text/plain": [
       "<Figure size 864x720 with 8 Axes>"
      ]
     },
     "metadata": {},
     "output_type": "display_data"
    }
   ],
   "source": [
    "confusion_matrix_4_models(y_test, y_pred_cnb, y_pred_dt, y_pred_rf, y_pred_gbc)"
   ]
  },
  {
   "cell_type": "markdown",
   "id": "15245ceb",
   "metadata": {
    "id": "15245ceb"
   },
   "source": [
    "Below are the predictive performances of the 4 selected model on the controlled dataset ('df_features_baseline'):\n",
    "\n",
    "|         Model         | Accuracy | Weighted Precision | Weighted Recall | Weighted F1|\n",
    "|:----------------------|:--------:|:------------------:|:---------------:|:----------:|\n",
    "|Categorical Naive Bayes|0.38|0.37|0.38|0.32|\n",
    "|Decision Tree - ID3    |0.14|0.19|0.14|0.14|\n",
    "|Random Forest          |0.28|0.18|0.28|0.22|\n",
    "|Gradient Boosting      |0.38|0.32|0.38|0.34|"
   ]
  },
  {
   "cell_type": "markdown",
   "id": "f18d4c07",
   "metadata": {
    "id": "f18d4c07"
   },
   "source": [
    "Below are the predictive performances of the same 4 model on One-Hot encoded dataset ('df_features_baseline_col_OHE'):\n",
    "\n",
    "|         Model         | Accuracy | Weighted Precision | Weighted Recall | Weighted F1|\n",
    "|:----------------------|:--------:|:------------------:|:---------------:|:----------:|\n",
    "|<b>Categorical Naive Bayes</b>|0.38|<b>0.44</b>|0.38|<b>0.38</b>|\n",
    "|Decision Tree - ID3    |0.03|0.02|0.03|0.03|\n",
    "|Random Forest          |0.21|0.16|0.21|0.18|\n",
    "|Gradient Boosting      |0.31|0.26|0.31|0.28|\n",
    "\n",
    "\\\n",
    "\\\n",
    "As observed, in most cases, the performance of the models decreases, including Random Forest, Gradient Boosting, and Decision Tree, which perform significantly worse than before. This is likely associated with the increased number of features, many of which have values of only 0 and 1 after certain features have been one-hot encoded. This could potentially introduce ambiguity for the model in identifying the features with the highest gain for the internal nodes within the tree.\n",
    "\\\n",
    "\\\n",
    "However, it can be observed that the weighted precision and weighted F1 score have increased for the Categorical Naive Bayes model. The improvement in weighted precision and weighted F1 score for the Categorical Naive Bayes model after one-hot encoding the data can be attributed to the nature of Naive Bayes algorithms. Naive Bayes assumes independence between features, and when the data is one-hot encoded, it transforms categorical variables into a binary format, aligning well with the independence assumption."
   ]
  },
  {
   "cell_type": "markdown",
   "id": "b2a53ef5",
   "metadata": {
    "id": "b2a53ef5"
   },
   "source": [
    "### Model Training with binary-transformed dataset (All features are used) <a name=\"BinaryTransform\"></a>"
   ]
  },
  {
   "cell_type": "markdown",
   "id": "2aea99de",
   "metadata": {
    "id": "2aea99de"
   },
   "source": [
    "In this section, I aim to delve deeper into one of the research questions proposed for further exploration:\n",
    "- <b>RQ1</b>: How are classification models affected by a small dataset with numerous output classes?\n",
    "\n",
    "The initial performance evaluation indicate that the chosen models exhibit less-than-ideal performance, particularly given the constraints of a small dataset with numerous distinct classes. This led me to consider whether I could enhance the overall predictive performance of the models by reducing the number of distinct classes. This methodology was investigated in the work of B. Jothi and M. Pushpalatha, where they categorised the OutputGrade into binary and ternary classifications. (B. Jothi and M. Pushpalatha, 2022)"
   ]
  },
  {
   "cell_type": "markdown",
   "id": "e13987b3",
   "metadata": {
    "id": "e13987b3"
   },
   "source": [
    "#### Transforming the output variable from multi-class to binary class <a name=\"MultiToBinary\"></a>"
   ]
  },
  {
   "cell_type": "markdown",
   "id": "7b72220c",
   "metadata": {
    "id": "7b72220c"
   },
   "source": [
    "Here, I will adopt a similar methodology, focusing solely on binary classification. Specifically, students whose grades fall between \"Fail\" and \"CC\" will be categorised as 0, while those with grades above \"CC\" will be categorised as 1."
   ]
  },
  {
   "cell_type": "code",
   "execution_count": 46,
   "id": "11d5bd82",
   "metadata": {
    "id": "11d5bd82"
   },
   "outputs": [],
   "source": [
    "df_feat_target_binary = df_feat_target.copy()"
   ]
  },
  {
   "cell_type": "code",
   "execution_count": 47,
   "id": "82337311",
   "metadata": {
    "id": "82337311"
   },
   "outputs": [],
   "source": [
    "lower_bound_grade = sorted(df_feat_target_binary['OutputGrade'].unique())[:len(df_feat_target_binary['OutputGrade'].unique())//2]"
   ]
  },
  {
   "cell_type": "code",
   "execution_count": 48,
   "id": "984012fa",
   "metadata": {
    "id": "984012fa"
   },
   "outputs": [],
   "source": [
    "for i in range(len(df_feat_target_binary)):\n",
    "    if df_feat_target_binary.iloc[i,:]['OutputGrade'] in lower_bound_grade:\n",
    "        df_feat_target_binary.iloc[i,:]['OutputGrade'] = int(0)\n",
    "    else:\n",
    "        df_feat_target_binary.iloc[i,:]['OutputGrade'] = int(1)"
   ]
  },
  {
   "cell_type": "markdown",
   "id": "632276cf",
   "metadata": {
    "id": "632276cf"
   },
   "source": [
    "#### Splitting the data and training <a name=\"BinarySplit\"></a>"
   ]
  },
  {
   "cell_type": "code",
   "execution_count": 49,
   "id": "f493721c",
   "metadata": {
    "id": "f493721c"
   },
   "outputs": [],
   "source": [
    "x = df_feat_target_binary.drop(columns = ['OutputGrade'])\n",
    "y = df_feat_target_binary['OutputGrade']"
   ]
  },
  {
   "cell_type": "code",
   "execution_count": 50,
   "id": "44eb5dbf",
   "metadata": {
    "id": "44eb5dbf"
   },
   "outputs": [],
   "source": [
    "x_train, x_test, y_train, y_test = train_test_split(x, y, test_size = 0.2, stratify = y, random_state = 42)"
   ]
  },
  {
   "cell_type": "markdown",
   "id": "0f1557c0",
   "metadata": {
    "id": "0f1557c0"
   },
   "source": [
    "#### Training Categorical Naive Bayes, Decision Tree, Random Forest & Gradient Boosting <a name=\"BinaryTraining\"></a>"
   ]
  },
  {
   "cell_type": "code",
   "execution_count": 51,
   "id": "1f69984d",
   "metadata": {
    "id": "1f69984d"
   },
   "outputs": [],
   "source": [
    "y_pred_cnb = train_test_CategoricalNB(x_train, x_test, y_train, y_test)\n",
    "y_pred_dt = train_test_DecisionTreeClassifier(x_train, x_test, y_train, y_test)\n",
    "y_pred_rf = train_test_RandomForestClassifier(x_train, x_test, y_train, y_test)\n",
    "y_pred_gbc = train_test_GradientBoostingClassifier(x_train, x_test, y_train, y_test)"
   ]
  },
  {
   "cell_type": "markdown",
   "id": "77429f98",
   "metadata": {
    "id": "77429f98"
   },
   "source": [
    "#### Performance Evaluation <a name=\"BinaryPerformanceEval\"></a>"
   ]
  },
  {
   "cell_type": "markdown",
   "id": "f0e42640",
   "metadata": {
    "id": "f0e42640"
   },
   "source": [
    "##### Classification report <a name=\"BinaryCR\"></a>"
   ]
  },
  {
   "cell_type": "code",
   "execution_count": 52,
   "id": "874909fe",
   "metadata": {
    "colab": {
     "base_uri": "https://localhost:8080/"
    },
    "id": "874909fe",
    "outputId": "fe4f9e9b-82a9-4fc1-ee4c-604ca1052cd5",
    "scrolled": true
   },
   "outputs": [
    {
     "name": "stdout",
     "output_type": "stream",
     "text": [
      "Categorical Naive Bayes\n",
      "              precision    recall  f1-score   support\n",
      "\n",
      "           0       0.72      1.00      0.84        18\n",
      "           1       1.00      0.36      0.53        11\n",
      "\n",
      "    accuracy                           0.76        29\n",
      "   macro avg       0.86      0.68      0.69        29\n",
      "weighted avg       0.83      0.76      0.72        29\n",
      "\n",
      "-------------------------------------------------------\n",
      "Decision Tree - ID3\n",
      "              precision    recall  f1-score   support\n",
      "\n",
      "           0       0.83      0.83      0.83        18\n",
      "           1       0.73      0.73      0.73        11\n",
      "\n",
      "    accuracy                           0.79        29\n",
      "   macro avg       0.78      0.78      0.78        29\n",
      "weighted avg       0.79      0.79      0.79        29\n",
      "\n",
      "-------------------------------------------------------\n",
      "Random Forest\n",
      "              precision    recall  f1-score   support\n",
      "\n",
      "           0       0.85      0.94      0.89        18\n",
      "           1       0.89      0.73      0.80        11\n",
      "\n",
      "    accuracy                           0.86        29\n",
      "   macro avg       0.87      0.84      0.85        29\n",
      "weighted avg       0.86      0.86      0.86        29\n",
      "\n",
      "-------------------------------------------------------\n",
      "Gradient Boosting\n",
      "              precision    recall  f1-score   support\n",
      "\n",
      "           0       0.85      0.94      0.89        18\n",
      "           1       0.89      0.73      0.80        11\n",
      "\n",
      "    accuracy                           0.86        29\n",
      "   macro avg       0.87      0.84      0.85        29\n",
      "weighted avg       0.86      0.86      0.86        29\n",
      "\n",
      "-------------------------------------------------------\n"
     ]
    }
   ],
   "source": [
    "print('Categorical Naive Bayes')\n",
    "print_performance_report(y_test, y_pred_cnb)\n",
    "print('Decision Tree - ID3')\n",
    "print_performance_report(y_test, y_pred_dt)\n",
    "print('Random Forest')\n",
    "print_performance_report(y_test, y_pred_rf)\n",
    "print('Gradient Boosting')\n",
    "print_performance_report(y_test, y_pred_gbc)"
   ]
  },
  {
   "cell_type": "markdown",
   "id": "ec928dc9",
   "metadata": {
    "id": "ec928dc9"
   },
   "source": [
    "##### Confusion matrix <a name=\"BinaryCM\"></a>"
   ]
  },
  {
   "cell_type": "code",
   "execution_count": 53,
   "id": "83765989",
   "metadata": {
    "colab": {
     "base_uri": "https://localhost:8080/",
     "height": 853
    },
    "id": "83765989",
    "outputId": "a97ea9c2-938f-49bb-ce26-bd5110dea993"
   },
   "outputs": [
    {
     "data": {
      "image/png": "[encoded data removed]",
      "text/plain": [
       "<Figure size 864x720 with 8 Axes>"
      ]
     },
     "metadata": {},
     "output_type": "display_data"
    }
   ],
   "source": [
    "confusion_matrix_4_models(y_test, y_pred_cnb, y_pred_dt, y_pred_rf, y_pred_gbc)"
   ]
  },
  {
   "cell_type": "markdown",
   "id": "df4ed3b8",
   "metadata": {
    "id": "df4ed3b8"
   },
   "source": [
    "|         Model         | Accuracy | Weighted Precision | Weighted Recall | Weighted F1|\n",
    "|:----------------------|:--------:|:------------------:|:---------------:|:----------:|\n",
    "|Categorical Naive Bayes|0.76|0.83|0.76|0.72|\n",
    "|Decision Tree - ID3    |0.79|0.79|0.79|0.79|\n",
    "|<b>Random Forest       |<b>0.86|<b>0.86|<b>0.86|<b>0.86|\n",
    "|<b>Gradient Boosting   |<b>0.86|<b>0.86|<b>0.86|<b>0.86|\n",
    "    \n",
    "From the table above, it is evident that the performances of our models have shown a significant improvement compared to the observations made earlier. Random Forest and Gradient Boosting, in particular, achieved the highest scores across all metrics.\n",
    "\\\n",
    "\\\n",
    "Nevertheless, despite the substantial increase in performance, there is a notable loss of granularity in the data. This approach may not be suitable if educators aim to precisely assess the extent of improvement in students' performance over time.\n",
    "\\\n",
    "\\\n",
    "However, this approach would be appropriate if educators aim to ensure that all their students achieve grades well above the average (\"CB,\" \"BB,\" \"BA,\" and \"AA\"), with the goal of preventing any student from failing and promoting overall satisfactory performance."
   ]
  },
  {
   "cell_type": "markdown",
   "id": "ee0e444c",
   "metadata": {
    "id": "ee0e444c"
   },
   "source": [
    "##### ROC-AUC Score <a name=\"BinaryROC\"></a>"
   ]
  },
  {
   "cell_type": "code",
   "execution_count": 54,
   "id": "0db945e7",
   "metadata": {
    "id": "0db945e7"
   },
   "outputs": [],
   "source": [
    "def print_roc_auc_score(y_test,y_prob_rf,y_prob_gbc):\n",
    "    roc_auc_score_rf = roc_auc_score(y_test,y_prob_rf[:, 1])\n",
    "    roc_auc_score_gbc = roc_auc_score(y_test,y_prob_gbc[:, 1])\n",
    "\n",
    "    print('ROC-AUC Score(Random Forest):',round(roc_auc_score_rf,3))\n",
    "    print('ROC-AUC Score(Gradient Boosting):',round(roc_auc_score_gbc,3))"
   ]
  },
  {
   "cell_type": "code",
   "execution_count": 55,
   "id": "b412cc89",
   "metadata": {
    "id": "b412cc89"
   },
   "outputs": [],
   "source": [
    "def train_test_proba_RandomForestClassifier(x_train, x_test, y_train, y_test):\n",
    "    rf = RandomForestClassifier(criterion='entropy', max_features=None, random_state=42)\n",
    "    rf.fit(x_train, y_train)\n",
    "    y_prob_rf = rf.predict_proba(x_test)\n",
    "\n",
    "    return y_prob_rf"
   ]
  },
  {
   "cell_type": "code",
   "execution_count": 56,
   "id": "6141eab0",
   "metadata": {
    "id": "6141eab0"
   },
   "outputs": [],
   "source": [
    "def train_test_proba_GradientBoostingClassifier(x_train, x_test, y_train, y_test):\n",
    "    gbc = GradientBoostingClassifier(n_estimators=25, learning_rate = 0.1, random_state=42)\n",
    "    gbc.fit(x_train,y_train)\n",
    "    y_prob_gbc = gbc.predict_proba(x_test)\n",
    "\n",
    "    return y_prob_gbc"
   ]
  },
  {
   "cell_type": "code",
   "execution_count": 57,
   "id": "c7c51ad4",
   "metadata": {
    "id": "c7c51ad4"
   },
   "outputs": [],
   "source": [
    "y_prob_rf = train_test_proba_RandomForestClassifier(x_train, x_test, y_train, y_test)\n",
    "y_prob_gbc = train_test_proba_GradientBoostingClassifier(x_train, x_test, y_train, y_test)"
   ]
  },
  {
   "cell_type": "code",
   "execution_count": 58,
   "id": "9caeb690",
   "metadata": {
    "colab": {
     "base_uri": "https://localhost:8080/"
    },
    "id": "9caeb690",
    "outputId": "f599c28c-cec8-4c06-c2bd-d0d68ac3720d"
   },
   "outputs": [
    {
     "name": "stdout",
     "output_type": "stream",
     "text": [
      "ROC-AUC Score(Random Forest): 0.902\n",
      "ROC-AUC Score(Gradient Boosting): 0.899\n"
     ]
    }
   ],
   "source": [
    "print_roc_auc_score(y_test, y_prob_rf, y_prob_gbc)"
   ]
  },
  {
   "cell_type": "markdown",
   "id": "4d5710cf",
   "metadata": {
    "id": "4d5710cf"
   },
   "source": [
    "|         Model         | ROC-AUC Score |\n",
    "|:----------------------|:-------------:|\n",
    "|<b>Random Forest       |<b>0.902|\n",
    "|Gradient Boosting      |0.899|\n",
    "\\\n",
    "\n",
    "\n",
    "The ROC-AUC scores indicates that the Random Forest and Gradient Boosting model has a relatively high ability to distinguish between positive and negative classes, with an area under the ROC curve of 0.902 and 0.899 respecitvely. Both models exhibit good performance in terms of distinguishing between the classes, with the Random Forest model slightly outperforming the Gradient Boosting model"
   ]
  },
  {
   "cell_type": "markdown",
   "id": "92ff248b",
   "metadata": {
    "id": "92ff248b"
   },
   "source": [
    "## Model Training with binary-transformed + intuitively dropping features dataset <a name=\"BinaryIntuitive\"></a>"
   ]
  },
  {
   "cell_type": "markdown",
   "id": "cbf59476",
   "metadata": {
    "id": "cbf59476"
   },
   "source": [
    "In this section, I chose to investigate the impact on the performances of Random Forest and Gradient Boosting models by intuitively dropping columns that, in my judgment, may not contribute significantly to student performance in the real world."
   ]
  },
  {
   "cell_type": "markdown",
   "id": "c016a4fe",
   "metadata": {
    "id": "c016a4fe"
   },
   "source": [
    "#### Defining the columns to be dropped intuitively <a name=\"BinaryIntuitiveDef\"></a>"
   ]
  },
  {
   "cell_type": "code",
   "execution_count": 59,
   "id": "60a184ae",
   "metadata": {
    "id": "60a184ae"
   },
   "outputs": [],
   "source": [
    "to_drop_cols = ['MaritalStatus', 'TotalSalary', 'Transportation', 'AccommType', 'MotherEduc',\n",
    "                'FatherEduc', 'Sib', 'ParentalStatus', 'MotherOccup', 'FatherOccup',\n",
    "                'PreferDiscussion', 'FlipClassroom']"
   ]
  },
  {
   "cell_type": "code",
   "execution_count": 60,
   "id": "ecc4ea2d",
   "metadata": {
    "id": "ecc4ea2d"
   },
   "outputs": [],
   "source": [
    "df_features_intuitive_drop = df_feat_target_binary.drop(columns = to_drop_cols)"
   ]
  },
  {
   "cell_type": "markdown",
   "id": "8c7de932",
   "metadata": {
    "id": "8c7de932"
   },
   "source": [
    "#### Splitting the data <a name=\"BinaryIntuitiveSplit\"></a>"
   ]
  },
  {
   "cell_type": "code",
   "execution_count": 61,
   "id": "773d69ee",
   "metadata": {
    "id": "773d69ee"
   },
   "outputs": [],
   "source": [
    "x = df_features_intuitive_drop.drop(columns=['OutputGrade'])\n",
    "y = df_features_intuitive_drop['OutputGrade']"
   ]
  },
  {
   "cell_type": "code",
   "execution_count": 62,
   "id": "3ff55ff3",
   "metadata": {
    "id": "3ff55ff3"
   },
   "outputs": [],
   "source": [
    "x_train, x_test, y_train, y_test = train_test_split(x, y, test_size = 0.2, stratify = y, random_state = 42)"
   ]
  },
  {
   "cell_type": "markdown",
   "id": "1bee3d0a",
   "metadata": {
    "id": "1bee3d0a"
   },
   "source": [
    "#### Training Random Forest and Gradient Boosting <a name=\"BinaryIntuitiveTraining\"></a>"
   ]
  },
  {
   "cell_type": "code",
   "execution_count": 63,
   "id": "a97b5884",
   "metadata": {
    "id": "a97b5884"
   },
   "outputs": [],
   "source": [
    "y_pred_rf = train_test_RandomForestClassifier(x_train, x_test, y_train, y_test)"
   ]
  },
  {
   "cell_type": "code",
   "execution_count": 64,
   "id": "ace90a62",
   "metadata": {
    "id": "ace90a62"
   },
   "outputs": [],
   "source": [
    "y_pred_gbc = train_test_GradientBoostingClassifier(x_train, x_test, y_train, y_test)"
   ]
  },
  {
   "cell_type": "markdown",
   "id": "5ecb513f",
   "metadata": {
    "id": "5ecb513f"
   },
   "source": [
    "#### Performance Evaluation <a name=\"BinaryIntuitivePerformanceEval\"></a>"
   ]
  },
  {
   "cell_type": "markdown",
   "id": "d47e8cb0",
   "metadata": {
    "id": "d47e8cb0"
   },
   "source": [
    "##### Classification report <a name=\"BinaryIntuitiveCR\"></a>"
   ]
  },
  {
   "cell_type": "code",
   "execution_count": 65,
   "id": "8ec59342",
   "metadata": {
    "colab": {
     "base_uri": "https://localhost:8080/"
    },
    "id": "8ec59342",
    "outputId": "3f82432c-4368-468c-828a-f62efc6b0048"
   },
   "outputs": [
    {
     "name": "stdout",
     "output_type": "stream",
     "text": [
      "Random Forest\n",
      "              precision    recall  f1-score   support\n",
      "\n",
      "           0       0.81      0.94      0.87        18\n",
      "           1       0.88      0.64      0.74        11\n",
      "\n",
      "    accuracy                           0.83        29\n",
      "   macro avg       0.84      0.79      0.80        29\n",
      "weighted avg       0.83      0.83      0.82        29\n",
      "\n",
      "-------------------------------------------------------\n",
      "Gradient Boosting\n",
      "              precision    recall  f1-score   support\n",
      "\n",
      "           0       0.81      0.94      0.87        18\n",
      "           1       0.88      0.64      0.74        11\n",
      "\n",
      "    accuracy                           0.83        29\n",
      "   macro avg       0.84      0.79      0.80        29\n",
      "weighted avg       0.83      0.83      0.82        29\n",
      "\n",
      "-------------------------------------------------------\n"
     ]
    }
   ],
   "source": [
    "print('Random Forest')\n",
    "print_performance_report(y_test, y_pred_rf)\n",
    "print('Gradient Boosting')\n",
    "print_performance_report(y_test, y_pred_gbc)"
   ]
  },
  {
   "cell_type": "markdown",
   "id": "5bddae6c",
   "metadata": {
    "id": "5bddae6c"
   },
   "source": [
    "##### Confusion matrix <a name=\"BinaryIntuitiveCM\"></a>"
   ]
  },
  {
   "cell_type": "code",
   "execution_count": 66,
   "id": "f9abd8ae",
   "metadata": {
    "colab": {
     "base_uri": "https://localhost:8080/",
     "height": 468
    },
    "id": "f9abd8ae",
    "outputId": "00ac18ec-d2a5-4308-a36f-4d48bd75c505"
   },
   "outputs": [
    {
     "data": {
      "image/png": "[encoded data removed]",
      "text/plain": [
       "<Figure size 864x360 with 4 Axes>"
      ]
     },
     "metadata": {},
     "output_type": "display_data"
    }
   ],
   "source": [
    "fig, axes = plt.subplots(figsize=(12,5), nrows=1, ncols=2)\n",
    "\n",
    "cm_rf = confusion_matrix(y_test, y_pred_rf)\n",
    "cm_gbc = confusion_matrix(y_test, y_pred_gbc)\n",
    "\n",
    "sns.heatmap(cm_rf, annot = True, cmap = 'YlGnBu', ax=axes[0])\n",
    "axes[0].set_title('Random Forest')\n",
    "\n",
    "sns.heatmap(cm_gbc, annot = True, cmap = 'YlGnBu', ax=axes[1])\n",
    "axes[1].set_title('Gradient Boosting')\n",
    "\n",
    "plt.show()"
   ]
  },
  {
   "cell_type": "markdown",
   "id": "8a454101",
   "metadata": {
    "id": "8a454101"
   },
   "source": [
    "##### ROC-AUC Score <a name=\"BinaryIntuitiveROC\"></a>"
   ]
  },
  {
   "cell_type": "code",
   "execution_count": 67,
   "id": "41a39de8",
   "metadata": {
    "id": "41a39de8"
   },
   "outputs": [],
   "source": [
    "y_prob_rf = train_test_proba_RandomForestClassifier(x_train, x_test, y_train, y_test)\n",
    "y_prob_rf = train_test_proba_GradientBoostingClassifier(x_train, x_test, y_train, y_test)"
   ]
  },
  {
   "cell_type": "code",
   "execution_count": 68,
   "id": "b2a33505",
   "metadata": {
    "colab": {
     "base_uri": "https://localhost:8080/"
    },
    "id": "b2a33505",
    "outputId": "bfcb56c8-33e4-4a48-f9b6-939fbfd642bc"
   },
   "outputs": [
    {
     "name": "stdout",
     "output_type": "stream",
     "text": [
      "ROC-AUC Score(Random Forest): 0.934\n",
      "ROC-AUC Score(Gradient Boosting): 0.899\n"
     ]
    }
   ],
   "source": [
    "print_roc_auc_score(y_test, y_prob_rf, y_prob_gbc)"
   ]
  },
  {
   "cell_type": "markdown",
   "id": "63c48bca",
   "metadata": {
    "id": "63c48bca"
   },
   "source": [
    "|         Model         | Accuracy | Weighted Precision | Weighted Recall | Weighted F1|\n",
    "|:----------------------|:--------:|:------------------:|:---------------:|:----------:|\n",
    "|Random Forest (Trained with features intuitively selected)       |0.83|0.83|0.83|0.82|\n",
    "|<b>Random Forest (Trained with all features)       |<b>0.86|<b>0.86|<b>0.86|<b>0.86|\n",
    "|Gradient Boosting (Trained with features intuitively selected)  |0.83|0.83|0.83|0.82|\n",
    "|<b>Gradient Boosting (Trained with all features)  |<b>0.86|<b>0.86|<b>0.86|<b>0.86|    \n",
    "\n",
    "\n",
    "\n",
    "|         Model         | ROC-AUC Score (All features) | ROC-AUC Score (intuitively dropping features) |\n",
    "|:----------------------|:---------------------------------------------:|:---------------------------------------------:|\n",
    "|Random Forest          |0.902|<b>0.934|\n",
    "|Gradient Boosting      |0.899|<b>0.937|\n",
    "\n",
    "Interestingly, the model performances are nearly identical across all performance metrics, including the ROC-AUC score, with minor differences. Although the accuracy, weighted precision, weighted recall, and weighted F1 score are slightly lower compared to when the models were trained using all features of the binary-transformed dataset, the ROC-AUC score seems to have increased. This suggests that applying the models on the data frame where certain features were intuitively dropped resulted in a slight improvement in terms of distinguishing between the classes."
   ]
  },
  {
   "cell_type": "markdown",
   "id": "cf8e62bf",
   "metadata": {
    "id": "cf8e62bf"
   },
   "source": [
    "### Training the models with highly correlated features <a name=\"HighCorrFeat\"></a>"
   ]
  },
  {
   "cell_type": "markdown",
   "id": "dec8c449",
   "metadata": {
    "id": "dec8c449"
   },
   "source": [
    "<b>RQ3</b>: How do highly correlated features affect model performance?\n",
    "\n",
    "I aimed to investigate how highly correlated features impact the performance of Random Forest and Gradient Boosting. My assumption is that features exhibiting high correlation with each other would significantly contribute to making accurate predictions.\n",
    "\\\n",
    "\\\n",
    "I have selected a threshold of 0.40 to determine which features are classified as highly correlated. Features with a correlation coefficient below this threshold are considered to have low correlation."
   ]
  },
  {
   "cell_type": "markdown",
   "id": "dba46ad1",
   "metadata": {
    "id": "dba46ad1"
   },
   "source": [
    "#### Identifying the columns that are highly correlated <a name=\"HighCorrFeatDef\"></a>"
   ]
  },
  {
   "cell_type": "markdown",
   "id": "nh3CsqLz2XBm",
   "metadata": {
    "id": "nh3CsqLz2XBm"
   },
   "source": [
    "With the specified threshold, seven features were identified from the dataset, and these features were used to train the models and subsequently evaluated. The selected features include 'PrevCGPA', 'AttendanceSeminars', 'ExpectedCGPA', 'CourseID', 'FatherEduc', 'MotherEduc', and 'Sex'\n",
    "\n",
    "\n",
    "2 / 2\n",
    "\n",
    "\n",
    "\n",
    "\n",
    "\n"
   ]
  },
  {
   "cell_type": "code",
   "execution_count": 69,
   "id": "58f9abc0",
   "metadata": {
    "colab": {
     "base_uri": "https://localhost:8080/"
    },
    "id": "58f9abc0",
    "outputId": "40b9ad25-8dd1-441a-b48d-1ebc4c1639ef",
    "scrolled": true
   },
   "outputs": [
    {
     "name": "stdout",
     "output_type": "stream",
     "text": [
      "{'CourseID', 'FatherEduc', 'MotherEduc', 'Sex', 'ExpectedCGPA', 'AttendanceSeminars', 'PrevCGPA'}\n"
     ]
    }
   ],
   "source": [
    "corr_threshold = 0.40\n",
    "high_corr_feats = set()\n",
    "\n",
    "series_feat_corr = df_features.corr().abs().unstack()\n",
    "series_feat_corr_ordered = series_feat_corr.sort_values(kind = 'quicksort')\n",
    "\n",
    "for i in range(len(series_feat_corr_ordered)):\n",
    "    if round(series_feat_corr_ordered[i], 2) < corr_threshold:\n",
    "        continue\n",
    "    elif round(series_feat_corr_ordered[i], 2) == 1:\n",
    "        continue\n",
    "    else:\n",
    "        high_corr_feats.add(series_feat_corr_ordered.index[i][0])\n",
    "\n",
    "print(high_corr_feats)"
   ]
  },
  {
   "cell_type": "markdown",
   "id": "fdc59f49",
   "metadata": {
    "id": "fdc59f49"
   },
   "source": [
    "#### Splitting the data <a name=\"HighCorrFeatSplit\"></a>"
   ]
  },
  {
   "cell_type": "code",
   "execution_count": 70,
   "id": "ed3026d6",
   "metadata": {
    "id": "ed3026d6"
   },
   "outputs": [],
   "source": [
    "df_features_high_corr = df_feat_target_binary.loc[:,list(high_corr_feats)]"
   ]
  },
  {
   "cell_type": "code",
   "execution_count": 71,
   "id": "7aa43cc5",
   "metadata": {
    "id": "7aa43cc5"
   },
   "outputs": [],
   "source": [
    "x = df_features_high_corr\n",
    "y = df_feat_target_binary['OutputGrade']"
   ]
  },
  {
   "cell_type": "code",
   "execution_count": 72,
   "id": "5af829f7",
   "metadata": {
    "id": "5af829f7"
   },
   "outputs": [],
   "source": [
    "x_train, x_test, y_train, y_test = train_test_split(x, y, test_size = 0.2, stratify = y, random_state = 42)"
   ]
  },
  {
   "cell_type": "markdown",
   "id": "bf831962",
   "metadata": {
    "id": "bf831962"
   },
   "source": [
    "#### Training Random Forest and Gradient Boosting <a name=\"HighCorrFeatTraining\"></a>"
   ]
  },
  {
   "cell_type": "code",
   "execution_count": 73,
   "id": "aaa40bfd",
   "metadata": {
    "id": "aaa40bfd"
   },
   "outputs": [],
   "source": [
    "y_pred_rf = train_test_RandomForestClassifier(x_train, x_test, y_train, y_test)"
   ]
  },
  {
   "cell_type": "code",
   "execution_count": 74,
   "id": "fd7e20d3",
   "metadata": {
    "id": "fd7e20d3"
   },
   "outputs": [],
   "source": [
    "y_pred_gbc = train_test_GradientBoostingClassifier(x_train, x_test, y_train, y_test)"
   ]
  },
  {
   "cell_type": "markdown",
   "id": "34e81ae7",
   "metadata": {
    "id": "34e81ae7"
   },
   "source": [
    "#### Performance Evaluation <a name=\"HighCorrFeatPerformanceEval\"></a>"
   ]
  },
  {
   "cell_type": "markdown",
   "id": "5ccd605f",
   "metadata": {
    "id": "5ccd605f"
   },
   "source": [
    "##### Classification report <a name=\"HighCorrFeatCR\"></a>"
   ]
  },
  {
   "cell_type": "code",
   "execution_count": 75,
   "id": "f30425af",
   "metadata": {
    "colab": {
     "base_uri": "https://localhost:8080/"
    },
    "id": "f30425af",
    "outputId": "8bf498ea-c5b7-476e-a733-d04083e5626b"
   },
   "outputs": [
    {
     "name": "stdout",
     "output_type": "stream",
     "text": [
      "Random Forest\n",
      "              precision    recall  f1-score   support\n",
      "\n",
      "           0       0.89      0.94      0.92        18\n",
      "           1       0.90      0.82      0.86        11\n",
      "\n",
      "    accuracy                           0.90        29\n",
      "   macro avg       0.90      0.88      0.89        29\n",
      "weighted avg       0.90      0.90      0.90        29\n",
      "\n",
      "-------------------------------------------------------\n",
      "Gradient Boosting\n",
      "              precision    recall  f1-score   support\n",
      "\n",
      "           0       0.86      1.00      0.92        18\n",
      "           1       1.00      0.73      0.84        11\n",
      "\n",
      "    accuracy                           0.90        29\n",
      "   macro avg       0.93      0.86      0.88        29\n",
      "weighted avg       0.91      0.90      0.89        29\n",
      "\n",
      "-------------------------------------------------------\n"
     ]
    }
   ],
   "source": [
    "print('Random Forest')\n",
    "print_performance_report(y_test, y_pred_rf)\n",
    "print('Gradient Boosting')\n",
    "print_performance_report(y_test, y_pred_gbc)"
   ]
  },
  {
   "cell_type": "markdown",
   "id": "e3b16a42",
   "metadata": {
    "id": "e3b16a42"
   },
   "source": [
    "##### Confusion matrix <a name=\"HighCorrFeatCM\"></a>"
   ]
  },
  {
   "cell_type": "code",
   "execution_count": 76,
   "id": "e2c2f6c3",
   "metadata": {
    "colab": {
     "base_uri": "https://localhost:8080/",
     "height": 468
    },
    "id": "e2c2f6c3",
    "outputId": "2229082e-cdd3-4a13-ac27-f938939301ad"
   },
   "outputs": [
    {
     "data": {
      "image/png": "[encoded data removed]",
      "text/plain": [
       "<Figure size 864x360 with 4 Axes>"
      ]
     },
     "metadata": {},
     "output_type": "display_data"
    }
   ],
   "source": [
    "fig, axes = plt.subplots(figsize=(12,5), nrows=1, ncols=2)\n",
    "\n",
    "cm_rf = confusion_matrix(y_test, y_pred_rf)\n",
    "cm_gbc = confusion_matrix(y_test, y_pred_gbc)\n",
    "\n",
    "sns.heatmap(cm_rf, annot = True, cmap = 'YlGnBu', ax=axes[0])\n",
    "axes[0].set_title('Random Forest')\n",
    "\n",
    "sns.heatmap(cm_gbc, annot = True, cmap = 'YlGnBu', ax=axes[1])\n",
    "axes[1].set_title('Gradient Boosting')\n",
    "\n",
    "plt.show()"
   ]
  },
  {
   "cell_type": "markdown",
   "id": "2214a3fa",
   "metadata": {
    "id": "2214a3fa"
   },
   "source": [
    "##### ROC-AUC Score <a name=\"HighCorrFeatROC\"></a>"
   ]
  },
  {
   "cell_type": "code",
   "execution_count": 77,
   "id": "49e41cc8",
   "metadata": {
    "id": "49e41cc8"
   },
   "outputs": [],
   "source": [
    "y_prob_rf = train_test_proba_RandomForestClassifier(x_train, x_test, y_train, y_test)\n",
    "y_prob_rf = train_test_proba_GradientBoostingClassifier(x_train, x_test, y_train, y_test)"
   ]
  },
  {
   "cell_type": "code",
   "execution_count": 78,
   "id": "5c6cd85f",
   "metadata": {
    "colab": {
     "base_uri": "https://localhost:8080/"
    },
    "id": "5c6cd85f",
    "outputId": "35360973-5ad1-418e-ed90-bea37d5ad4d3"
   },
   "outputs": [
    {
     "name": "stdout",
     "output_type": "stream",
     "text": [
      "ROC-AUC Score(Random Forest): 0.937\n",
      "ROC-AUC Score(Gradient Boosting): 0.899\n"
     ]
    }
   ],
   "source": [
    "print_roc_auc_score(y_test, y_prob_rf, y_prob_gbc)"
   ]
  },
  {
   "cell_type": "markdown",
   "id": "Hux9kyde5G3P",
   "metadata": {
    "id": "Hux9kyde5G3P"
   },
   "source": [
    "Performances of the models trained using highly correlated features:\n",
    "\n",
    "|         Model         | Accuracy | Weighted Precision | Weighted Recall | Weighted F1|\n",
    "|:----------------------|:--------:|:------------------:|:---------------:|:----------:|\n",
    "|Random Forest (Highly correlated features)      |0.90|0.90|0.90|<b>0.90|\n",
    "|Gradient Boosting (Highly correlated features   |0.90|<b>0.91|0.90|0.89|\n",
    "\n",
    "\n",
    "    \n",
    "|         Model         | ROC-AUC Score |\n",
    "|:----------------------|:-------------:|\n",
    "|Random Forest          |<b>0.937|\n",
    "|Gradient Boosting      |0.899|\n",
    "\n",
    "\\\n",
    "Using highly correlated data to train the model resulted in an improvement in the performance of the Gradient Boosting model compared to intuitively dropping features from the dataset. Additionally, there was an observed increase in the weighted F1 score for the Random Forest model as well as a slight improvement in the ROC-AUC score.\n",
    "\n",
    "\\\n",
    "Highly correlated features may be interacting in a way that positively influences the models' ability to capture complex relationships within the dataset. Ensemble models, epecially, can exploit how feature interacts with each other to improve performance. Additionally, Random Forest and Gradient Boosting implemented in this experiment, possess greater robustness in handling correlated features.\n",
    "\n",
    "\\\n",
    "The noted improvement might also be attributed to randomness in the data-splitting process during training and testing. Different splits can also yield different outcomes, and occasionally, the inclusion of correlated features may align with a more favorable split, resulting in improved performance.\n",
    "\n"
   ]
  },
  {
   "cell_type": "markdown",
   "id": "0a999c6a",
   "metadata": {
    "id": "0a999c6a"
   },
   "source": [
    "### Training the models features that have low correlation <a name=\"LowCorrFeat\"></a>"
   ]
  },
  {
   "cell_type": "markdown",
   "id": "83747c19",
   "metadata": {
    "id": "83747c19"
   },
   "source": [
    "#### Identifying the features that have low correlation <a name=\"LowCorrFeatDef\"></a>"
   ]
  },
  {
   "cell_type": "markdown",
   "id": "DX4wxWTO49gt",
   "metadata": {
    "id": "DX4wxWTO49gt"
   },
   "source": [
    "Alternatively, I aim to examine the impact on Random Forest and Gradient Boosting models when trained with features exhibiting low correlation.\n",
    "\n",
    "\n",
    "To extract features with low correlation, it is a straightforward process of removing the features that were identified as highly correlated in the previous stage."
   ]
  },
  {
   "cell_type": "code",
   "execution_count": 79,
   "id": "20808ff9",
   "metadata": {
    "id": "20808ff9"
   },
   "outputs": [],
   "source": [
    "df_features_low_corr = df_feat_target_binary.drop(columns = list(high_corr_feats))"
   ]
  },
  {
   "cell_type": "markdown",
   "id": "427cd51d",
   "metadata": {
    "id": "427cd51d"
   },
   "source": [
    "#### Splitting the data <a name=\"LowCorrFeatSplit\"></a>"
   ]
  },
  {
   "cell_type": "code",
   "execution_count": 80,
   "id": "12ce505a",
   "metadata": {
    "id": "12ce505a"
   },
   "outputs": [],
   "source": [
    "x = df_features_low_corr.drop(columns=['OutputGrade'])\n",
    "y = df_features_low_corr['OutputGrade']"
   ]
  },
  {
   "cell_type": "code",
   "execution_count": 81,
   "id": "409a4620",
   "metadata": {
    "id": "409a4620"
   },
   "outputs": [],
   "source": [
    "x_train, x_test, y_train, y_test = train_test_split(x, y, test_size = 0.2, stratify = y, random_state = 42)"
   ]
  },
  {
   "cell_type": "markdown",
   "id": "79ade591",
   "metadata": {
    "id": "79ade591"
   },
   "source": [
    "#### Training Random Forest and Gradient Boosting <a name=\"LowCorrFeatTraining\"></a>"
   ]
  },
  {
   "cell_type": "code",
   "execution_count": 82,
   "id": "4a57c17e",
   "metadata": {
    "id": "4a57c17e"
   },
   "outputs": [],
   "source": [
    "y_pred_rf = train_test_RandomForestClassifier(x_train, x_test, y_train, y_test)"
   ]
  },
  {
   "cell_type": "code",
   "execution_count": 83,
   "id": "2ec638c5",
   "metadata": {
    "id": "2ec638c5"
   },
   "outputs": [],
   "source": [
    "y_pred_gbc = train_test_GradientBoostingClassifier(x_train, x_test, y_train, y_test)"
   ]
  },
  {
   "cell_type": "markdown",
   "id": "7c5c3a93",
   "metadata": {
    "id": "7c5c3a93"
   },
   "source": [
    "#### Performance Evaluation <a name=\"LowCorrFeatPerformanceEval\"></a>"
   ]
  },
  {
   "cell_type": "markdown",
   "id": "47821308",
   "metadata": {
    "id": "47821308"
   },
   "source": [
    "##### Classification report <a name=\"LowCorrFeatCR\"></a>"
   ]
  },
  {
   "cell_type": "code",
   "execution_count": 84,
   "id": "924b8d68",
   "metadata": {
    "colab": {
     "base_uri": "https://localhost:8080/"
    },
    "id": "924b8d68",
    "outputId": "2704b980-dce3-4f64-9eec-cae9a9a79d32",
    "scrolled": true
   },
   "outputs": [
    {
     "name": "stdout",
     "output_type": "stream",
     "text": [
      "Random Forest\n",
      "              precision    recall  f1-score   support\n",
      "\n",
      "           0       0.58      0.61      0.59        18\n",
      "           1       0.30      0.27      0.29        11\n",
      "\n",
      "    accuracy                           0.48        29\n",
      "   macro avg       0.44      0.44      0.44        29\n",
      "weighted avg       0.47      0.48      0.48        29\n",
      "\n",
      "-------------------------------------------------------\n",
      "Gradient Boosting\n",
      "              precision    recall  f1-score   support\n",
      "\n",
      "           0       0.71      0.67      0.69        18\n",
      "           1       0.50      0.55      0.52        11\n",
      "\n",
      "    accuracy                           0.62        29\n",
      "   macro avg       0.60      0.61      0.60        29\n",
      "weighted avg       0.63      0.62      0.62        29\n",
      "\n",
      "-------------------------------------------------------\n"
     ]
    }
   ],
   "source": [
    "print('Random Forest')\n",
    "print_performance_report(y_test, y_pred_rf)\n",
    "print('Gradient Boosting')\n",
    "print_performance_report(y_test, y_pred_gbc)"
   ]
  },
  {
   "cell_type": "markdown",
   "id": "c8d01a06",
   "metadata": {
    "id": "c8d01a06"
   },
   "source": [
    "##### Confusion matrix <a name=\"LowCorrFeatCM\"></a>"
   ]
  },
  {
   "cell_type": "code",
   "execution_count": 85,
   "id": "be05a97d",
   "metadata": {
    "colab": {
     "base_uri": "https://localhost:8080/",
     "height": 468
    },
    "id": "be05a97d",
    "outputId": "9bd870fe-7b86-41e5-de09-661eb1cd9a4c"
   },
   "outputs": [
    {
     "data": {
      "image/png": "[encoded data removed]",
      "text/plain": [
       "<Figure size 864x360 with 4 Axes>"
      ]
     },
     "metadata": {},
     "output_type": "display_data"
    }
   ],
   "source": [
    "fig, axes = plt.subplots(figsize=(12,5), nrows=1, ncols=2)\n",
    "\n",
    "cm_rf = confusion_matrix(y_test, y_pred_rf)\n",
    "cm_gbc = confusion_matrix(y_test, y_pred_gbc)\n",
    "\n",
    "sns.heatmap(cm_rf, annot = True, cmap = 'YlGnBu', ax=axes[0])\n",
    "axes[0].set_title('Random Forest')\n",
    "\n",
    "sns.heatmap(cm_gbc, annot = True, cmap = 'YlGnBu', ax=axes[1])\n",
    "axes[1].set_title('Gradient Boosting')\n",
    "\n",
    "plt.show()"
   ]
  },
  {
   "cell_type": "markdown",
   "id": "1ac832d2",
   "metadata": {
    "id": "1ac832d2"
   },
   "source": [
    "##### ROC-AUC Score <a name=\"LowCorrFeatROC\"></a>"
   ]
  },
  {
   "cell_type": "code",
   "execution_count": 86,
   "id": "0c93752e",
   "metadata": {
    "id": "0c93752e"
   },
   "outputs": [],
   "source": [
    "y_prob_rf = train_test_proba_RandomForestClassifier(x_train, x_test, y_train, y_test)\n",
    "y_prob_gbc = train_test_proba_GradientBoostingClassifier(x_train, x_test, y_train, y_test)"
   ]
  },
  {
   "cell_type": "code",
   "execution_count": 87,
   "id": "91475993",
   "metadata": {
    "colab": {
     "base_uri": "https://localhost:8080/"
    },
    "id": "91475993",
    "outputId": "9000402f-6051-41a3-b620-5e93db1bccc6"
   },
   "outputs": [
    {
     "name": "stdout",
     "output_type": "stream",
     "text": [
      "ROC-AUC Score(Random Forest): 0.497\n",
      "ROC-AUC Score(Gradient Boosting): 0.563\n"
     ]
    }
   ],
   "source": [
    "print_roc_auc_score(y_test, y_prob_rf, y_prob_gbc)"
   ]
  },
  {
   "cell_type": "markdown",
   "id": "5SZVa5hn7nAc",
   "metadata": {
    "id": "5SZVa5hn7nAc"
   },
   "source": [
    "|         Model         | Accuracy | Weighted Precision | Weighted Recall | Weighted F1|\n",
    "|:----------------------|:--------:|:------------------:|:---------------:|:----------:|\n",
    "|Random Forest (Low correlated features)       |0.48|0.47|0.48|0.48|\n",
    "|<b>Gradient Boosting (Low correlated features)  |<b>0.62|<b>0.63|<b>0.62|<b>0.62|\n",
    "\n",
    "\n",
    "\n",
    "|         Model         | ROC-AUC Score |\n",
    "|:----------------------|:-------------:|\n",
    "|Random Forest          |0.497|\n",
    "|<b>Gradient Boosting      |<b>0.563|\n",
    "\n",
    "\n",
    "\n",
    "It is evident that the predictive performance of the models significantly declines when trained with features exhibiting low correlation among themselves. The model seems to have difficulties in distinguishing between class 0 and class 1, as indicated by both the lower ROC-AUC score and the confusion matrix. Yet, Gradient Boosting demonstrates better performance compared to Random Forest when trained with features yielding low correlation in terms of the overall performance."
   ]
  },
  {
   "cell_type": "markdown",
   "id": "f5f892cf",
   "metadata": {
    "id": "f5f892cf"
   },
   "source": [
    "### Feature Importance - Random Forest Approach <a name=\"FeatureImportance\"></a>"
   ]
  },
  {
   "cell_type": "markdown",
   "id": "yzgBaRIiByrI",
   "metadata": {
    "id": "yzgBaRIiByrI"
   },
   "source": [
    "<b>RQ4</b>: Is feature importance a superior approach to feature selection compared to the correlation coefficient?\n",
    "\n",
    "Finally, the feature selection approach I aim to explore is based on feature importance. In this case, I will utilize the random forest feature importance method to select features in decrements of 5%, starting from the top 70% down to the top 45%. A higher feature importance value indicates a more significant contribution of the feature to the classification performance of the model.\n",
    "\n",
    "In the end, I will compare the effectiveness of each feature selection approach to answer my proposed research question and proceed with the most effective method."
   ]
  },
  {
   "cell_type": "code",
   "execution_count": 88,
   "id": "7e2d706e",
   "metadata": {
    "id": "7e2d706e"
   },
   "outputs": [],
   "source": [
    "x = df_feat_target_binary.drop(columns = ['OutputGrade'])\n",
    "y = df_feat_target_binary['OutputGrade']\n",
    "\n",
    "x_train, x_test, y_train, y_test = train_test_split(x, y, test_size = 0.2, stratify = y, random_state = 42)"
   ]
  },
  {
   "cell_type": "code",
   "execution_count": 89,
   "id": "5a301837",
   "metadata": {
    "id": "5a301837"
   },
   "outputs": [],
   "source": [
    "rf = RandomForestClassifier(criterion='entropy', max_features=None, random_state=42)\n",
    "rf.fit(x_train, y_train)\n",
    "y_pred_rf = rf.predict(x_test)\n",
    "\n",
    "importances = rf.feature_importances_"
   ]
  },
  {
   "cell_type": "code",
   "execution_count": 90,
   "id": "14ffe5f3",
   "metadata": {
    "id": "14ffe5f3"
   },
   "outputs": [],
   "source": [
    "feat_importance = zip(df_feat_target_binary.drop(columns=['OutputGrade']).columns,importances)\n",
    "feat_importance = sorted(feat_importance, reverse = True ,key = lambda x: x[1])"
   ]
  },
  {
   "cell_type": "code",
   "execution_count": 91,
   "id": "7ac500c6",
   "metadata": {
    "colab": {
     "base_uri": "https://localhost:8080/"
    },
    "id": "7ac500c6",
    "outputId": "2801ee11-b6db-4912-bd39-606046289a31",
    "scrolled": true
   },
   "outputs": [
    {
     "data": {
      "text/plain": [
       "[('CourseID', 0.39527543704954565),\n",
       " ('PrevCGPA', 0.08413155541164502),\n",
       " ('ArtSportActivity', 0.050604666126478806),\n",
       " ('Sib', 0.03862277759366981),\n",
       " ('TotalSalary', 0.034780981628661604),\n",
       " ('FatherOccup', 0.031584720448282116),\n",
       " ('StudyHours', 0.03138136400104697),\n",
       " ('Transportation', 0.031113088383346744),\n",
       " ('ListenInClass', 0.028245878750705236),\n",
       " ('Age', 0.02693804992897147),\n",
       " ('AccommType', 0.021269966216728345),\n",
       " ('MaritalStatus', 0.021043289763096308),\n",
       " ('ProjectImpact', 0.01878175745496474),\n",
       " ('GradHSType', 0.018639347094629884),\n",
       " ('ExpectedCGPA', 0.018467672616465015),\n",
       " ('FlipClassroom', 0.015373754022141084),\n",
       " ('ReadFreqNonScientific', 0.014628210669920351),\n",
       " ('ScholarshipType', 0.014022182950235808),\n",
       " ('MidtermPrepPeople', 0.013622842082164117),\n",
       " ('FatherEduc', 0.012939922245520088),\n",
       " ('Sex', 0.012426000979470381),\n",
       " ('PreferDiscussion', 0.012195607591309691),\n",
       " ('MotherEduc', 0.011243672096245532),\n",
       " ('MotherOccup', 0.007201012904528113),\n",
       " ('ParentalStatus', 0.007116007867047285),\n",
       " ('TakeNotes', 0.0065818947986039985),\n",
       " ('ReadFreqScientific', 0.0053894505217252095),\n",
       " ('AttendanceClass', 0.004919892154559082),\n",
       " ('MidtermPrepDuration', 0.004653140551248685),\n",
       " ('AdditionalWork', 0.0046497316600753145),\n",
       " ('AttendanceSeminars', 0.0021561244369675053)]"
      ]
     },
     "execution_count": 91,
     "metadata": {},
     "output_type": "execute_result"
    }
   ],
   "source": [
    "feat_importance"
   ]
  },
  {
   "cell_type": "markdown",
   "id": "5nqHTdAXe714",
   "metadata": {
    "id": "5nqHTdAXe714"
   },
   "source": [
    "Below, it is evident that 'CourseID' holds the highest feature importance value, followed by PrevCGPA, and so on."
   ]
  },
  {
   "cell_type": "code",
   "execution_count": 92,
   "id": "e45d48f0",
   "metadata": {
    "colab": {
     "base_uri": "https://localhost:8080/",
     "height": 676
    },
    "id": "e45d48f0",
    "outputId": "85966f79-e523-4cf1-8ff1-19a82a33fb79"
   },
   "outputs": [
    {
     "data": {
      "image/png": "[encoded data removed]",
      "text/plain": [
       "<Figure size 720x576 with 1 Axes>"
      ]
     },
     "metadata": {},
     "output_type": "display_data"
    }
   ],
   "source": [
    "feat_importance_unzip = list(zip(*feat_importance))\n",
    "plt.figure(figsize = (10,8))\n",
    "plt.barh(feat_importance_unzip[0], feat_importance_unzip[1], color = 'mediumseagreen')\n",
    "plt.xlim(0,0.4)\n",
    "plt.show()"
   ]
  },
  {
   "cell_type": "code",
   "execution_count": 93,
   "id": "4133cc43",
   "metadata": {
    "id": "4133cc43"
   },
   "outputs": [],
   "source": [
    "feat_importance = sorted(feat_importance, reverse = True,key = lambda x: x[1])"
   ]
  },
  {
   "cell_type": "markdown",
   "id": "mDcQS29ZGkus",
   "metadata": {
    "id": "mDcQS29ZGkus"
   },
   "source": [
    "- Top 70% consists of 10 features\n",
    "- Top 65% consists of 11 features\n",
    "- Top 60% consists of 13 features\n",
    "- Top 55% consists of 14 features\n",
    "- Top 50% consists of 16 features\n",
    "- Top 45% consists of 18 features"
   ]
  },
  {
   "cell_type": "code",
   "execution_count": 95,
   "id": "a8f0095f",
   "metadata": {
    "colab": {
     "base_uri": "https://localhost:8080/"
    },
    "id": "a8f0095f",
    "outputId": "d6b73e9f-d3e4-43ad-e130-e698ec24a754"
   },
   "outputs": [
    {
     "name": "stdout",
     "output_type": "stream",
     "text": [
      "Top 21 features in sorted feature importance\n",
      "Top 20 features in sorted feature importance\n",
      "Top 18 features in sorted feature importance\n",
      "Top 17 features in sorted feature importance\n",
      "Top 15 features in sorted feature importance\n",
      "Top 13 features in sorted feature importance\n"
     ]
    }
   ],
   "source": [
    "top_pct = [0.70, 0.65, 0.60, 0.55, 0.50, 0.45]\n",
    "feat_importance_pct = []\n",
    "for pct in top_pct:\n",
    "    feat_importance_top_i_pct = int(len(feat_importance)*pct)\n",
    "    print('Top',round(feat_importance_top_i_pct),'features in sorted feature importance')\n",
    "    feat_importance_pct.append(feat_importance_top_i_pct)"
   ]
  },
  {
   "cell_type": "code",
   "execution_count": 96,
   "id": "MNH8wy_T_zdH",
   "metadata": {
    "colab": {
     "base_uri": "https://localhost:8080/"
    },
    "id": "MNH8wy_T_zdH",
    "outputId": "3555752d-2d0b-48db-f898-cd694d5c701a"
   },
   "outputs": [
    {
     "data": {
      "text/plain": [
       "['21 Features',\n",
       " '20 Features',\n",
       " '18 Features',\n",
       " '17 Features',\n",
       " '15 Features',\n",
       " '13 Features']"
      ]
     },
     "execution_count": 96,
     "metadata": {},
     "output_type": "execute_result"
    }
   ],
   "source": [
    "[str(feat_num) + ' Features' for feat_num in feat_importance_pct]"
   ]
  },
  {
   "cell_type": "markdown",
   "id": "5405e530",
   "metadata": {},
   "source": [
    "The top 70%, 65%, 60% and so on, are selected and used to train the Random Forest model to compare how this could possible affect the model's performance"
   ]
  },
  {
   "cell_type": "code",
   "execution_count": 97,
   "id": "d9a64983",
   "metadata": {
    "colab": {
     "base_uri": "https://localhost:8080/",
     "height": 1000
    },
    "id": "d9a64983",
    "outputId": "976e94a8-aa69-4b28-b67b-f9e3f626a213",
    "scrolled": true
   },
   "outputs": [
    {
     "name": "stdout",
     "output_type": "stream",
     "text": [
      "              precision    recall  f1-score   support\n",
      "\n",
      "           0       0.89      0.94      0.92        18\n",
      "           1       0.90      0.82      0.86        11\n",
      "\n",
      "    accuracy                           0.90        29\n",
      "   macro avg       0.90      0.88      0.89        29\n",
      "weighted avg       0.90      0.90      0.90        29\n",
      "\n"
     ]
    },
    {
     "data": {
      "image/png": "[encoded data removed]",
      "text/plain": [
       "<Figure size 432x288 with 2 Axes>"
      ]
     },
     "metadata": {},
     "output_type": "display_data"
    },
    {
     "name": "stdout",
     "output_type": "stream",
     "text": [
      "              precision    recall  f1-score   support\n",
      "\n",
      "           0       0.89      0.94      0.92        18\n",
      "           1       0.90      0.82      0.86        11\n",
      "\n",
      "    accuracy                           0.90        29\n",
      "   macro avg       0.90      0.88      0.89        29\n",
      "weighted avg       0.90      0.90      0.90        29\n",
      "\n"
     ]
    },
    {
     "data": {
      "image/png": "[encoded data removed]",
      "text/plain": [
       "<Figure size 432x288 with 2 Axes>"
      ]
     },
     "metadata": {},
     "output_type": "display_data"
    },
    {
     "name": "stdout",
     "output_type": "stream",
     "text": [
      "              precision    recall  f1-score   support\n",
      "\n",
      "           0       0.89      0.89      0.89        18\n",
      "           1       0.82      0.82      0.82        11\n",
      "\n",
      "    accuracy                           0.86        29\n",
      "   macro avg       0.85      0.85      0.85        29\n",
      "weighted avg       0.86      0.86      0.86        29\n",
      "\n"
     ]
    },
    {
     "data": {
      "image/png": "[encoded data removed]",
      "text/plain": [
       "<Figure size 432x288 with 2 Axes>"
      ]
     },
     "metadata": {},
     "output_type": "display_data"
    },
    {
     "name": "stdout",
     "output_type": "stream",
     "text": [
      "              precision    recall  f1-score   support\n",
      "\n",
      "           0       0.89      0.89      0.89        18\n",
      "           1       0.82      0.82      0.82        11\n",
      "\n",
      "    accuracy                           0.86        29\n",
      "   macro avg       0.85      0.85      0.85        29\n",
      "weighted avg       0.86      0.86      0.86        29\n",
      "\n"
     ]
    },
    {
     "data": {
      "image/png": "[encoded data removed]",
      "text/plain": [
       "<Figure size 432x288 with 2 Axes>"
      ]
     },
     "metadata": {},
     "output_type": "display_data"
    },
    {
     "name": "stdout",
     "output_type": "stream",
     "text": [
      "              precision    recall  f1-score   support\n",
      "\n",
      "           0       0.89      0.89      0.89        18\n",
      "           1       0.82      0.82      0.82        11\n",
      "\n",
      "    accuracy                           0.86        29\n",
      "   macro avg       0.85      0.85      0.85        29\n",
      "weighted avg       0.86      0.86      0.86        29\n",
      "\n"
     ]
    },
    {
     "data": {
      "image/png": "[encoded data removed]",
      "text/plain": [
       "<Figure size 432x288 with 2 Axes>"
      ]
     },
     "metadata": {},
     "output_type": "display_data"
    },
    {
     "name": "stdout",
     "output_type": "stream",
     "text": [
      "              precision    recall  f1-score   support\n",
      "\n",
      "           0       0.89      0.89      0.89        18\n",
      "           1       0.82      0.82      0.82        11\n",
      "\n",
      "    accuracy                           0.86        29\n",
      "   macro avg       0.85      0.85      0.85        29\n",
      "weighted avg       0.86      0.86      0.86        29\n",
      "\n"
     ]
    },
    {
     "data": {
      "image/png": "[encoded data removed]",
      "text/plain": [
       "<Figure size 432x288 with 2 Axes>"
      ]
     },
     "metadata": {},
     "output_type": "display_data"
    }
   ],
   "source": [
    "rf = RandomForestClassifier(criterion='entropy', max_features=None, random_state=42)\n",
    "\n",
    "#Top 70%, 65%, 60%, 55%, 50%, 45% of the feature importance\n",
    "\n",
    "for pct in feat_importance_pct:\n",
    "    feat_importance_list = []\n",
    "\n",
    "    for i in range(pct):\n",
    "        feat_importance_list.append(feat_importance[i][0])\n",
    "\n",
    "    df_feat_importance = df_feat_target_binary.loc[:,feat_importance_list]\n",
    "    x = df_feat_importance\n",
    "    y = df_feat_target_binary['OutputGrade']\n",
    "    x_train, x_test, y_train, y_test = train_test_split(x, y, test_size = 0.2, stratify = y, random_state = 42)\n",
    "\n",
    "    rf.fit(x_train, y_train)\n",
    "    y_pred = rf.predict(x_test)\n",
    "\n",
    "    print(classification_report(y_test, y_pred))\n",
    "\n",
    "    cm = confusion_matrix(y_test, y_pred)\n",
    "    sns.heatmap(cm, annot = True, cmap = 'YlGnBu')\n",
    "    plt.show()"
   ]
  },
  {
   "cell_type": "markdown",
   "id": "AfolvhkTev7P",
   "metadata": {
    "id": "AfolvhkTev7P"
   },
   "source": [
    "Here I will be using weighted F1 score to compare the predictive performance of Random Forest using the Top 70%, 65%, 60%, 55%, 50% and 45% of the feature importance.\n",
    "\n",
    "|         Model         | Weighted F1|\n",
    "|:----------------------|:--------:|\n",
    "|70%       |0.90|\n",
    "|65%       |0.90|\n",
    "|60%       |0.86|\n",
    "|55%       |0.86|\n",
    "|50%       |0.86|\n",
    "|45%       |0.86|\n",
    "\n",
    "\\\n",
    "The highest weighted F1 score, at 0.90, remains consistent when used the 70% and 65% of the features holding high feature importance value when employing the Random Forest feature importance approach. The performance between these two subsets is comparable, even when using accuracy, weighted precision, and weighted recall to evaluate the performances."
   ]
  },
  {
   "cell_type": "markdown",
   "id": "094437d3",
   "metadata": {},
   "source": [
    "Similarly, the data frame used to train Gradient boosting is the same as the preivous method."
   ]
  },
  {
   "cell_type": "code",
   "execution_count": 98,
   "id": "2f1154f8",
   "metadata": {
    "colab": {
     "base_uri": "https://localhost:8080/",
     "height": 1000
    },
    "id": "2f1154f8",
    "outputId": "7f39f841-8ada-4aa0-f910-9569109b0aa9",
    "scrolled": true
   },
   "outputs": [
    {
     "name": "stdout",
     "output_type": "stream",
     "text": [
      "              precision    recall  f1-score   support\n",
      "\n",
      "           0       0.85      0.94      0.89        18\n",
      "           1       0.89      0.73      0.80        11\n",
      "\n",
      "    accuracy                           0.86        29\n",
      "   macro avg       0.87      0.84      0.85        29\n",
      "weighted avg       0.86      0.86      0.86        29\n",
      "\n"
     ]
    },
    {
     "data": {
      "image/png": "[encoded data removed]",
      "text/plain": [
       "<Figure size 432x288 with 2 Axes>"
      ]
     },
     "metadata": {},
     "output_type": "display_data"
    },
    {
     "name": "stdout",
     "output_type": "stream",
     "text": [
      "              precision    recall  f1-score   support\n",
      "\n",
      "           0       0.85      0.94      0.89        18\n",
      "           1       0.89      0.73      0.80        11\n",
      "\n",
      "    accuracy                           0.86        29\n",
      "   macro avg       0.87      0.84      0.85        29\n",
      "weighted avg       0.86      0.86      0.86        29\n",
      "\n"
     ]
    },
    {
     "data": {
      "image/png": "[encoded data removed]",
      "text/plain": [
       "<Figure size 432x288 with 2 Axes>"
      ]
     },
     "metadata": {},
     "output_type": "display_data"
    },
    {
     "name": "stdout",
     "output_type": "stream",
     "text": [
      "              precision    recall  f1-score   support\n",
      "\n",
      "           0       0.85      0.94      0.89        18\n",
      "           1       0.89      0.73      0.80        11\n",
      "\n",
      "    accuracy                           0.86        29\n",
      "   macro avg       0.87      0.84      0.85        29\n",
      "weighted avg       0.86      0.86      0.86        29\n",
      "\n"
     ]
    },
    {
     "data": {
      "image/png": "[encoded data removed]",
      "text/plain": [
       "<Figure size 432x288 with 2 Axes>"
      ]
     },
     "metadata": {},
     "output_type": "display_data"
    },
    {
     "name": "stdout",
     "output_type": "stream",
     "text": [
      "              precision    recall  f1-score   support\n",
      "\n",
      "           0       0.85      0.94      0.89        18\n",
      "           1       0.89      0.73      0.80        11\n",
      "\n",
      "    accuracy                           0.86        29\n",
      "   macro avg       0.87      0.84      0.85        29\n",
      "weighted avg       0.86      0.86      0.86        29\n",
      "\n"
     ]
    },
    {
     "data": {
      "image/png": "[encoded data removed]",
      "text/plain": [
       "<Figure size 432x288 with 2 Axes>"
      ]
     },
     "metadata": {},
     "output_type": "display_data"
    },
    {
     "name": "stdout",
     "output_type": "stream",
     "text": [
      "              precision    recall  f1-score   support\n",
      "\n",
      "           0       0.85      0.94      0.89        18\n",
      "           1       0.89      0.73      0.80        11\n",
      "\n",
      "    accuracy                           0.86        29\n",
      "   macro avg       0.87      0.84      0.85        29\n",
      "weighted avg       0.86      0.86      0.86        29\n",
      "\n"
     ]
    },
    {
     "data": {
      "image/png": "[encoded data removed]",
      "text/plain": [
       "<Figure size 432x288 with 2 Axes>"
      ]
     },
     "metadata": {},
     "output_type": "display_data"
    },
    {
     "name": "stdout",
     "output_type": "stream",
     "text": [
      "              precision    recall  f1-score   support\n",
      "\n",
      "           0       0.84      0.89      0.86        18\n",
      "           1       0.80      0.73      0.76        11\n",
      "\n",
      "    accuracy                           0.83        29\n",
      "   macro avg       0.82      0.81      0.81        29\n",
      "weighted avg       0.83      0.83      0.83        29\n",
      "\n"
     ]
    },
    {
     "data": {
      "image/png": "[encoded data removed]",
      "text/plain": [
       "<Figure size 432x288 with 2 Axes>"
      ]
     },
     "metadata": {},
     "output_type": "display_data"
    }
   ],
   "source": [
    "gbc = GradientBoostingClassifier(n_estimators=25, learning_rate = 0.1, random_state=42)\n",
    "\n",
    "#Top 70%, 65%, 60%, 55%, 50%, 45% of the feature importance\n",
    "\n",
    "for pct in feat_importance_pct:\n",
    "    feat_importance_list = []\n",
    "\n",
    "    for i in range(pct):\n",
    "        feat_importance_list.append(feat_importance[i][0])\n",
    "\n",
    "    df_feat_importance = df_feat_target_binary.loc[:,feat_importance_list]\n",
    "    x = df_feat_importance\n",
    "    y = df_feat_target_binary['OutputGrade']\n",
    "    x_train, x_test, y_train, y_test = train_test_split(x, y, test_size = 0.2, stratify = y, random_state = 42)\n",
    "\n",
    "    gbc.fit(x_train, y_train)\n",
    "    y_pred = gbc.predict(x_test)\n",
    "\n",
    "    print(classification_report(y_test, y_pred))\n",
    "\n",
    "    cm = confusion_matrix(y_test, y_pred)\n",
    "    sns.heatmap(cm, annot = True, cmap = 'YlGnBu')\n",
    "    plt.show()"
   ]
  },
  {
   "cell_type": "markdown",
   "id": "NG81E2EtjItj",
   "metadata": {
    "id": "NG81E2EtjItj"
   },
   "source": [
    "|         Model         | Weighted F1 (RF)| Weighted F1(GB)|\n",
    "|:----------------------|:--------:|:--------:|\n",
    "|70%       |<b>0.90|0.86|\n",
    "|65%       |<b>0.90|0.86|\n",
    "|60%       |0.86|0.86|\n",
    "|55%       |0.86|0.86|\n",
    "|50%       |0.86|0.86|\n",
    "|45%       |<b>0.86|0.83|\n",
    "\n",
    "\\\n",
    "Gradient Boosting achieves its highest weighted F1 score of 0.86, which is lower compared to when the model was trained with highly correlated features, achieving around 0.89. Additionally, other performance metrics also demonstrate a contrast, with a weighted precision of 0.91 when trained with highly correlated features, surpassing the weighted precision of 0.86 when trained with features selected using the feature importance approach."
   ]
  },
  {
   "cell_type": "markdown",
   "id": "5FA3fHKrkwJP",
   "metadata": {
    "id": "5FA3fHKrkwJP"
   },
   "source": [
    "It is evident that the models demonstrate improved performance when trained with highly correlated features in comparison to implementing feature importance as the method for feature selection. This results in a more favourable overall score."
   ]
  },
  {
   "cell_type": "markdown",
   "id": "fNUPMuzc2_vN",
   "metadata": {
    "id": "fNUPMuzc2_vN"
   },
   "source": [
    "Trained with binary-transformed dataset (All features):\n",
    "\n",
    "|         Model         | Accuracy | Weighted Precision | Weighted Recall | Weighted F1|\n",
    "|:----------------------|:--------:|:------------------:|:---------------:|:----------:|\n",
    "|Random Forest       |0.86|0.86|0.86|0.86|\n",
    "|Gradient Boosting   |0.86|0.86|0.86|0.86|\n",
    "\n",
    "\n",
    "Trained with binary-transformed dataset + intuitively dropping features:\n",
    "\n",
    "|         Model         | Accuracy | Weighted Precision | Weighted Recall | Weighted F1|\n",
    "|:----------------------|:--------:|:------------------:|:---------------:|:----------:|\n",
    "|Random Forest       |0.83|0.83|0.83|0.82|\n",
    "|Gradient Boosting   |0.83|0.83|0.83|0.82|\n",
    "\n",
    "\n",
    "\n",
    "Trained with binary-transformed datasets with highly correlated features:\n",
    "\n",
    "|         Model         | Accuracy | Weighted Precision | Weighted Recall | Weighted F1|\n",
    "|:----------------------|:--------:|:------------------:|:---------------:|:----------:|\n",
    "|<b>Random Forest       |<b>0.90|<b>0.90|<b>0.90|<b>0.90|\n",
    "|<b>Gradient Boosting   |<b>0.90|<b>0.91|<b>0.90|<b>0.89|\n",
    "\n",
    "\n",
    "\n",
    "Trained with binary-transformed datasets with low correlated features:\n",
    "\n",
    "|         Model         | Accuracy | Weighted Precision | Weighted Recall | Weighted F1|\n",
    "|:----------------------|:--------:|:------------------:|:---------------:|:----------:|\n",
    "|Random Forest       |0.48|0.47|0.48|0.48|\n",
    "|Gradient Boosting   |0.62|0.63|0.62|0.62|\n",
    "\n",
    "\n",
    "\n",
    "Trained with binary-transformed datasets with 70% of features holding the highest feature importance value:\n",
    "\n",
    "|         Model         | Accuracy | Weighted Precision | Weighted Recall | Weighted F1|\n",
    "|:----------------------|:--------:|:------------------:|:---------------:|:----------:|\n",
    "|Random Forest       |0.90|0.90|0.90|0.90|\n",
    "|Gradient Boosting   |0.86|0.86|0.86|0.83|\n",
    "    \n"
   ]
  },
  {
   "cell_type": "markdown",
   "id": "3c621c82",
   "metadata": {},
   "source": [
    "Based on the available information, I will proceed with the final experiment, which involves determining the optimal parameters for the models and evaluating their performance using the dataset that has been binary-transformed with highly correlated features."
   ]
  },
  {
   "cell_type": "markdown",
   "id": "Y-AcZbHYrCtR",
   "metadata": {
    "id": "Y-AcZbHYrCtR"
   },
   "source": [
    "GridSearch is performed to find the optimal parameters for both Random Forest and Gradient boosting"
   ]
  },
  {
   "cell_type": "code",
   "execution_count": 99,
   "id": "a10bc016",
   "metadata": {
    "id": "a10bc016"
   },
   "outputs": [],
   "source": [
    "rf = RandomForestClassifier()\n",
    "gbc = GradientBoostingClassifier()"
   ]
  },
  {
   "cell_type": "markdown",
   "id": "IYTBJx9_rYqV",
   "metadata": {
    "id": "IYTBJx9_rYqV"
   },
   "source": [
    "The following are the optimal parameters for the Random Forest model, along with the corresponding best score obtained through 5-fold cross-validation."
   ]
  },
  {
   "cell_type": "code",
   "execution_count": 100,
   "id": "77a5e8d9",
   "metadata": {
    "colab": {
     "base_uri": "https://localhost:8080/"
    },
    "id": "77a5e8d9",
    "outputId": "988b781c-2002-487e-9dee-affb94294290"
   },
   "outputs": [
    {
     "name": "stdout",
     "output_type": "stream",
     "text": [
      "Best Parameters: {'criterion': 'entropy', 'max_features': None, 'n_estimators': 200, 'random_state': 0}\n",
      "Best Score: 0.84\n"
     ]
    }
   ],
   "source": [
    "params_rf = {'n_estimators':[200,400],\n",
    "             'criterion':['gini','entropy'],\n",
    "             'max_features':['sqrt','log2',None],\n",
    "             'random_state':[0, 42]}\n",
    "\n",
    "grid_rf = GridSearchCV(estimator=rf, param_grid=params_rf, cv=5, scoring='accuracy')\n",
    "grid_rf.fit(x_train, y_train)\n",
    "\n",
    "print('Best Parameters:',grid_rf.best_params_)\n",
    "print('Best Score:',round(grid_rf.best_score_,2))"
   ]
  },
  {
   "cell_type": "markdown",
   "id": "eH5vYWxJrrDm",
   "metadata": {
    "id": "eH5vYWxJrrDm"
   },
   "source": [
    "The following are the optimal parameters for the Gradient Boosting model, along with the corresponding best score obtained through 5-fold cross-validation."
   ]
  },
  {
   "cell_type": "code",
   "execution_count": 101,
   "id": "145a7ada",
   "metadata": {
    "colab": {
     "base_uri": "https://localhost:8080/"
    },
    "id": "145a7ada",
    "outputId": "0d51213b-3203-418d-ab00-a5a2f32d8d86"
   },
   "outputs": [
    {
     "name": "stdout",
     "output_type": "stream",
     "text": [
      "Best Parameters: {'criterion': 'friedman_mse', 'learning_rate': 0.1, 'max_features': None, 'n_estimators': 50, 'random_state': 42}\n",
      "Best Score: 0.81\n"
     ]
    }
   ],
   "source": [
    "params_gbc = {'n_estimators':[25,50],\n",
    "              'learning_rate':[0.1],\n",
    "              'criterion':['friedman_mse','squared_error'],\n",
    "              'max_features':['sqrt','log2',None],\n",
    "              'random_state':[0,42]}\n",
    "\n",
    "grid_gbc = GridSearchCV(estimator=gbc, param_grid=params_gbc, cv=5, scoring='accuracy')\n",
    "grid_gbc.fit(x_train, y_train)\n",
    "\n",
    "print('Best Parameters:',grid_gbc.best_params_)\n",
    "print('Best Score:',round(grid_gbc.best_score_,2))"
   ]
  },
  {
   "cell_type": "markdown",
   "id": "4cbaf785",
   "metadata": {
    "id": "4cbaf785"
   },
   "source": [
    "## Binary transformed dataset (All features) <a name=\"FinalBinaryTransform\"></a>"
   ]
  },
  {
   "cell_type": "markdown",
   "id": "7f6837c8",
   "metadata": {
    "id": "7f6837c8"
   },
   "source": [
    "## Highly correlated features <a name=\"FinalHighCorrFeat\"></a>"
   ]
  },
  {
   "cell_type": "markdown",
   "id": "67524c18",
   "metadata": {
    "id": "67524c18"
   },
   "source": [
    "### Splitting the data <a name=\"FinalHighCorrFeatSplit\"></a>"
   ]
  },
  {
   "cell_type": "code",
   "execution_count": 107,
   "id": "becd54b2",
   "metadata": {
    "id": "becd54b2"
   },
   "outputs": [],
   "source": [
    "x = df_features_high_corr\n",
    "y = df_feat_target_binary['OutputGrade']\n",
    "\n",
    "x_train, x_test, y_train, y_test = train_test_split(x, y, test_size = 0.2, stratify = y, random_state = 42)"
   ]
  },
  {
   "cell_type": "markdown",
   "id": "6e7c098d",
   "metadata": {
    "id": "6e7c098d"
   },
   "source": [
    "### Training Random Forest and Gradient Boosting <a name=\"FinalHighCorrFeatTraining\"></a>"
   ]
  },
  {
   "cell_type": "markdown",
   "id": "850518f5",
   "metadata": {},
   "source": [
    "Cross-validation technique is used to guarantees that the models have seem every data point at least once during the training process."
   ]
  },
  {
   "cell_type": "code",
   "execution_count": 117,
   "id": "7d4f1295",
   "metadata": {
    "colab": {
     "base_uri": "https://localhost:8080/"
    },
    "id": "1981c589",
    "outputId": "d5657fc6-7d5f-404f-fd63-620da0914743"
   },
   "outputs": [
    {
     "name": "stdout",
     "output_type": "stream",
     "text": [
      "Random Forest\n",
      "Min F1 across 5 folds: 0.556\n",
      "Mean F1 across 5 folds : 0.676\n",
      "Max F1 across 5 folds: 0.9 \n",
      "\n",
      "-------------------------------------------\n",
      "Gradient Boosting\n",
      "Min F1 across 5 folds: 0.588\n",
      "Mean F1 across 5 folds: 0.709\n",
      "Max F1 across 5 folds: 0.9\n",
      "-------------------------------------------\n"
     ]
    }
   ],
   "source": [
    "rf = RandomForestClassifier(n_estimators=200, criterion='entropy', max_features=None, random_state=0)\n",
    "gbc = GradientBoostingClassifier(criterion='friedman_mse', learning_rate=0.1, max_features=None, n_estimators=25, random_state=0)\n",
    "\n",
    "skf = StratifiedKFold(n_splits=5, shuffle=True ,random_state=42)\n",
    "\n",
    "cvs_rf = cross_val_score(rf, x_train, y_train, scoring='f1', cv=skf)\n",
    "cvs_gbc = cross_val_score(gbc, x_train, y_train, scoring='f1', cv=skf)\n",
    "\n",
    "print('Random Forest')\n",
    "print('Min F1 across 5 folds:',round(min(cvs_rf),3))\n",
    "print('Mean F1 across 5 folds :',round(cvs_rf.mean(),3))\n",
    "print('Max F1 across 5 folds:',round(max(cvs_rf),3),'\\n')\n",
    "print('-------------------------------------------')\n",
    "print('Gradient Boosting')\n",
    "print('Min F1 across 5 folds:',round(min(cvs_gbc),3))\n",
    "print('Mean F1 across 5 folds:',round(cvs_gbc.mean(),3))\n",
    "print('Max F1 across 5 folds:',round(max(cvs_gbc),3))\n",
    "print('-------------------------------------------')\n",
    "rf.fit(x_train, y_train)\n",
    "gbc.fit(x_train, y_train)\n",
    "\n",
    "y_pred_rf = rf.predict(x_test)\n",
    "y_prob_rf = rf.predict_proba(x_test)\n",
    "y_pred_gbc = gbc.predict(x_test)\n",
    "y_prob_gbc = gbc.predict_proba(x_test)"
   ]
  },
  {
   "cell_type": "markdown",
   "id": "4877c595",
   "metadata": {},
   "source": [
    "These F1 scores offer insights into the models' performance, considering precision and recall. The minimum, mean, and maximum F1 scores provide a range of performance across different folds. Both Random Forest and Gradient Boosting demonstrate a range of F1 scores, with Gradient Boosting generally achieving slightly higher mean and minimum F1 scores compared to Random Forest."
   ]
  },
  {
   "cell_type": "markdown",
   "id": "22a07244",
   "metadata": {
    "id": "22a07244"
   },
   "source": [
    "### Performance Evaluation <a name=\"FinalHighCorrFeatPerformanceEval\"></a>"
   ]
  },
  {
   "cell_type": "markdown",
   "id": "c977336a",
   "metadata": {
    "id": "c977336a"
   },
   "source": [
    "##### Classification Report <a name=\"FinalHighCorrFeatCR\"></a>"
   ]
  },
  {
   "cell_type": "code",
   "execution_count": 109,
   "id": "9091904f",
   "metadata": {
    "colab": {
     "base_uri": "https://localhost:8080/"
    },
    "id": "9091904f",
    "outputId": "ae443381-6f48-4d47-8fac-f8b64ee2b75f"
   },
   "outputs": [
    {
     "name": "stdout",
     "output_type": "stream",
     "text": [
      "Random Forest\n",
      "              precision    recall  f1-score   support\n",
      "\n",
      "           0       0.89      0.94      0.92        18\n",
      "           1       0.90      0.82      0.86        11\n",
      "\n",
      "    accuracy                           0.90        29\n",
      "   macro avg       0.90      0.88      0.89        29\n",
      "weighted avg       0.90      0.90      0.90        29\n",
      "\n",
      "-----------------------------------------------------\n",
      "Gradient Boosting\n",
      "              precision    recall  f1-score   support\n",
      "\n",
      "           0       0.86      1.00      0.92        18\n",
      "           1       1.00      0.73      0.84        11\n",
      "\n",
      "    accuracy                           0.90        29\n",
      "   macro avg       0.93      0.86      0.88        29\n",
      "weighted avg       0.91      0.90      0.89        29\n",
      "\n"
     ]
    }
   ],
   "source": [
    "print('Random Forest')\n",
    "print(classification_report(y_test, y_pred_rf))\n",
    "print('-----------------------------------------------------')\n",
    "print('Gradient Boosting')\n",
    "print(classification_report(y_test, y_pred_gbc))"
   ]
  },
  {
   "cell_type": "markdown",
   "id": "3663bc08",
   "metadata": {
    "id": "3663bc08"
   },
   "source": [
    "##### Confusion matrix <a name=\"FinalHighCorrFeatCM\"></a>"
   ]
  },
  {
   "cell_type": "code",
   "execution_count": 110,
   "id": "446976ba",
   "metadata": {
    "colab": {
     "base_uri": "https://localhost:8080/",
     "height": 468
    },
    "id": "446976ba",
    "outputId": "7e2edc79-ccba-4e7d-ff55-df88d7679e98"
   },
   "outputs": [
    {
     "data": {
      "image/png": "[encoded data removed]",
      "text/plain": [
       "<Figure size 864x360 with 4 Axes>"
      ]
     },
     "metadata": {},
     "output_type": "display_data"
    }
   ],
   "source": [
    "fig, axes = plt.subplots(figsize=(12,5), nrows=1, ncols=2)\n",
    "\n",
    "cm_rf = confusion_matrix(y_test, y_pred_rf)\n",
    "cm_gbc = confusion_matrix(y_test, y_pred_gbc)\n",
    "\n",
    "sns.heatmap(cm_rf, annot = True, cmap = 'YlGnBu', ax=axes[0])\n",
    "axes[0].set_title('Random Forest')\n",
    "\n",
    "sns.heatmap(cm_gbc, annot = True, cmap = 'YlGnBu', ax=axes[1])\n",
    "axes[1].set_title('Gradient Boosting')\n",
    "plt.show()"
   ]
  },
  {
   "cell_type": "markdown",
   "id": "d00bd063",
   "metadata": {
    "id": "d00bd063"
   },
   "source": [
    "##### ROC-AUC score & curve <a name=\"FinalHighCorrFeatROC\"></a>"
   ]
  },
  {
   "cell_type": "code",
   "execution_count": 111,
   "id": "0e2525c5",
   "metadata": {
    "colab": {
     "base_uri": "https://localhost:8080/",
     "height": 467
    },
    "id": "0e2525c5",
    "outputId": "fafb6822-3ac1-4ca5-f304-5180b72ed75c"
   },
   "outputs": [
    {
     "name": "stdout",
     "output_type": "stream",
     "text": [
      "ROC-AUC score for random forest: 0.934 | ROC-AUC score for random forest: 0.937\n"
     ]
    },
    {
     "data": {
      "image/png": "[encoded data removed]",
      "text/plain": [
       "<Figure size 432x288 with 1 Axes>"
      ]
     },
     "metadata": {},
     "output_type": "display_data"
    }
   ],
   "source": [
    "print('ROC-AUC score for random forest:',round(roc_auc_score(y_test, y_prob_rf[:,1]),3),'| ROC-AUC score for random forest:',round(roc_auc_score(y_test, y_prob_gbc[:,1]),3))\n",
    "\n",
    "rf_roc_curve = RocCurveDisplay.from_estimator(rf, x_test, y_test, alpha = 0.8)\n",
    "RocCurveDisplay.from_estimator(gbc, x_test, y_test, linestyle = '--',ax=rf_roc_curve.ax_)\n",
    "plt.ylim(0)\n",
    "plt.show()"
   ]
  },
  {
   "cell_type": "markdown",
   "id": "338469bb",
   "metadata": {},
   "source": [
    "# Conclusion <a name=\"conclusion\"></a>"
   ]
  },
  {
   "cell_type": "markdown",
   "id": "6c7430d3",
   "metadata": {},
   "source": [
    "The outcomes of this experiment are as followed:\n",
    "- The performance of the chosen models was notably affected by the \"shape\" of our data. Because our dataset is relatively small and contains numerous classes, the models did not perform as well as expected. However, upon categorizing the classes into only two (class 0 and 1), a significant improvement in the performance of our predictive model was observed.\n",
    "\n",
    "\n",
    "\n",
    "- One-Hot Encoding can significantly influence various models, negatively impacting tree models and ensemble models, leading to notably poorer performance. It induces a substantial increase in the number of features, potentially triggering the curse of dimensionality, thereby making the models more complex and potentially resulting overfitting. Conversely, it can have a positive impact on probabilistic models like Naive Bayes. The observed improvement in the weighted precision and weighted F1 score in the Categorical Naive Bayes model following one-hot encoding can be attributed to the nature of the Naive Bayes algorithm as it relies on the assumption of independence between features, and when the data undergoes one-hot encoding, categorical variables are transformed into a binary feature, supporting the independence assumption.\n",
    "\n",
    "\n",
    "\n",
    "- In the case of classification models there seems to be a slight improvement in some aspect of the models' performance. Evidently, training the model using highly correlated data led to an enhancement in the weighted F1 score of the Gradient Boosting model as well as a slight enhancement in the ROC-AUC score, suggesting improvement in terms of the ability to distingush between the distinct classes. The interaction among highly correlated features could be positively influencing the models, aiding them in capturing intricate relationships within the dataset. It was also noted that the splitting of the data may also have some influence in making the features interact with each other in a way which resulted in an improvement of the performance.\n",
    "\n",
    "\n",
    "\n",
    "- Lastly, in the context of this dataset, it was discovered that implementing correlation as an approach for feature selection is more effective than feature importance. My finding suggests that considering the interdependence of features through correlation matrix provided better results in feature selection. The dataset's characteristics and the nature of relationships among features seem to play a major role, making correlation the better feature selection approach over feature importance.\n",
    "\n"
   ]
  },
  {
   "cell_type": "markdown",
   "id": "c601ecaf",
   "metadata": {
    "id": "c601ecaf"
   },
   "source": [
    "# References <a name=\"References\"></a>\n",
    "1. Alhamid, M. (2021) Ensemble Models Medium. 15 March 2021 [online]. Available from: https://towardsdatascience.com/ensemble-models-5a62d4f4cb0c.\n",
    "\n",
    "2. B. Jothi and M. Pushpalatha (2022) Understanding trends in higher education student performance using machine learning techniques. 2022 IEEE 2nd Mysore Sub Section International Conference (MysuruCon) [online].\n",
    "\n",
    "3. Castillo, D. (2021) Decision trees in machine learning explained Seldon. 13 November 2021 [online]. Available from: https://www.seldon.io/decision-trees-in-machine-learning.\n",
    "\n",
    "4. R, A. (no date) The Importance of Decision Trees in Machine Learning www.turing.com [online]. Available from: https://www.turing.com/kb/importance-of-decision-trees-in-machine-learning#categorical-variable-decision-tree.\n",
    "\n",
    "5. Ray, S. (2019) 6 Easy Steps to Learn Naive Bayes Algorithm (with code in Python) Analytics Vidhya. 3 September 2019 [online]. Available from: https://www.analyticsvidhya.com/blog/2017/09/naive-bayes-explained/.\n",
    "\n",
    "6. Yilmaz, N. and Şekeroğlu, B. (2023) UCI Machine Learning Repository archive.ics.uci.edu. 14 August 2023 [online]. Available from: https://archive.ics.uci.edu/dataset/856/higher+education+students+performance+evaluation."
   ]
  }
 ],
 "metadata": {
  "colab": {
   "provenance": []
  },
  "kernelspec": {
   "display_name": "Python 3 (ipykernel)",
   "language": "python",
   "name": "python3"
  },
  "language_info": {
   "codemirror_mode": {
    "name": "ipython",
    "version": 3
   },
   "file_extension": ".py",
   "mimetype": "text/x-python",
   "name": "python",
   "nbconvert_exporter": "python",
   "pygments_lexer": "ipython3",
   "version": "3.10.13"
  }
 },
 "nbformat": 4,
 "nbformat_minor": 5
}
